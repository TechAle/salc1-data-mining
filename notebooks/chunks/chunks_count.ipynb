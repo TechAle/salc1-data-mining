{
 "cells": [
  {
   "cell_type": "markdown",
   "metadata": {},
   "source": [
    "This file exist for estimate how big are all chunks"
   ]
  },
  {
   "cell_type": "markdown",
   "metadata": {},
   "source": [
    "# Library"
   ]
  },
  {
   "cell_type": "code",
   "execution_count": 2,
   "metadata": {},
   "outputs": [],
   "source": [
    "## Using the cmd and reading files\n",
    "from os import popen, listdir"
   ]
  },
  {
   "cell_type": "markdown",
   "metadata": {},
   "source": [
    "# Data"
   ]
  },
  {
   "cell_type": "code",
   "execution_count": 3,
   "metadata": {},
   "outputs": [],
   "source": [
    "## Our worlds\n",
    "worlds = [\"overworld\", \"nether\", \"end\"]\n",
    "## Our prev_path for go to our destination\n",
    "prev_path = \"../../data/server/chunks/\"\n",
    "## A counter just because i like to see how slow my computer is\n",
    "count = 0\n",
    "## Create dictionary that\n",
    "files_ = {  world : 0 for world in worlds}"
   ]
  },
  {
   "cell_type": "markdown",
   "metadata": {},
   "source": [
    "# Counting"
   ]
  },
  {
   "cell_type": "code",
   "execution_count": 10,
   "metadata": {},
   "outputs": [],
   "source": [
    "for world in worlds:\n",
    "    files_[world] = len(listdir(f\"{prev_path}1_{world}\"))\n",
    "    # files_[world] = len(listdir(f\"{prev_path}32_{world}\"))"
   ]
  },
  {
   "cell_type": "markdown",
   "metadata": {},
   "source": [
    "# Size"
   ]
  },
  {
   "cell_type": "code",
   "execution_count": 18,
   "metadata": {},
   "outputs": [
    {
     "name": "stdout",
     "output_type": "stream",
     "text": [
      "\n"
     ]
    }
   ],
   "source": [
    "## For some reason if i try to do popen(du -sh ../../data/server/chunks/ )\n",
    "## It gives an error. do this and copy the result below\n",
    "'''\n",
    "    cd (path to chunks)\n",
    "    du -sh 1_overworld 1_end 1_nether\n",
    "'''\n",
    "print()"
   ]
  },
  {
   "cell_type": "markdown",
   "metadata": {},
   "source": [
    "# Calculus"
   ]
  },
  {
   "cell_type": "code",
   "execution_count": null,
   "metadata": {},
   "outputs": [],
   "source": [
    "# {'overworld': 17936, 'nether': 6997, 'end': 1444}\n",
    "# Max : {'overworld': 346084, 'nether': 75178, 'end': 28906}"
   ]
  },
  {
   "cell_type": "markdown",
   "metadata": {},
   "source": [
    "### Overworld\n",
    "17936 (number of files that i decompressed) = 131Gb (size of all this files)<br>\n",
    "size of 1 file ~= 131 / 17936 ~= 0.0073037 Gb (overworld) <br>\n",
    "346084 (chunks that i didnt decompressed yet) * 0.0073037 ~= 2527.6937108 Gb <br>\n",
    "Total = 2527.6937108 + 131 ~= 2658.6937108 Gb \n",
    "### Nether\n",
    "6997 = 144 Gb <br>\n",
    "1 file = 0.0205802 Gb (nether) <br>\n",
    "75178 * 0.0205802 = 1547.1782756 Gb <br>\n",
    "1547.1782756 + 144 = 1691.1782756 Gb\n",
    "### End\n",
    "1444 = 7.5 Gb <br>\n",
    "1 file = 0.0051939 Gb <br>\n",
    "28906 * 0.0051939 = 150.1348734 Gb <br>\n",
    "150.1348734 + 7.5 = 157.6348734 Gb\n",
    "### Total\n",
    "2658.6937108 + 1691.1782756 + 157.6348734 = 4507.5068598"
   ]
  },
  {
   "cell_type": "markdown",
   "metadata": {},
   "source": [
    "# Report of the size"
   ]
  },
  {
   "cell_type": "markdown",
   "metadata": {},
   "source": [
    "Date: 12/09/20 <br>\n",
    "Files: 26377/471052 <br>\n",
    "Time spent: ~3 days <br>\n",
    "Size: 131 (overworld) + 144 (nether) + 7.5 (end) = 282,5 Gb"
   ]
  },
  {
   "cell_type": "code",
   "execution_count": null,
   "metadata": {},
   "outputs": [],
   "source": []
  }
 ],
 "metadata": {
  "kernelspec": {
   "display_name": "Python 3",
   "language": "python",
   "name": "python3"
  },
  "language_info": {
   "codemirror_mode": {
    "name": "ipython",
    "version": 3
   },
   "file_extension": ".py",
   "mimetype": "text/x-python",
   "name": "python",
   "nbconvert_exporter": "python",
   "pygments_lexer": "ipython3",
   "version": "3.7.6"
  }
 },
 "nbformat": 4,
 "nbformat_minor": 4
}
