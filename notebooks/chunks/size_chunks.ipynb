{
 "cells": [
  {
   "cell_type": "markdown",
   "metadata": {},
   "source": [
    "this file have to find what is the biggest chunk in all our 3 dimension.<br>\n",
    "it generates the \"chunks.csv\" "
   ]
  },
  {
   "cell_type": "markdown",
   "metadata": {},
   "source": [
    "# Library"
   ]
  },
  {
   "cell_type": "code",
   "execution_count": 1,
   "metadata": {},
   "outputs": [],
   "source": [
    "## For the location of a chunk\n",
    "from math import floor\n",
    "## For exporting\n",
    "import pandas as pd\n",
    "## Getting size of a file\n",
    "from os.path import getsize\n",
    "from os import listdir\n",
    "## Clear Output\n",
    "from IPython.display import clear_output"
   ]
  },
  {
   "cell_type": "markdown",
   "metadata": {},
   "source": [
    "## Function for gaining size of a chunk + coordinates"
   ]
  },
  {
   "cell_type": "code",
   "execution_count": 63,
   "metadata": {},
   "outputs": [],
   "source": [
    "prev_path = \"../data/server/chunks/\"\n",
    "def chunk_to_info(chunk_name, world):\n",
    "    _, x_num, z_num, _ = chunk_name.split('.')\n",
    "    x_cord = int(x_num) << 5\n",
    "    z_cord = int(z_num) << 5\n",
    "    size = getsize(prev_path + world + '/' + chunk_name)\n",
    "    return [x_num, z_num, x_cord, z_cord, size]"
   ]
  },
  {
   "cell_type": "code",
   "execution_count": 66,
   "metadata": {},
   "outputs": [
    {
     "name": "stdout",
     "output_type": "stream",
     "text": [
      "99.98896087905369\n"
     ]
    }
   ],
   "source": [
    "worlds_name = [\"overworld\", \"nether\", \"end\"]\n",
    "series = {}\n",
    "chunks_total = 471052\n",
    "idx = 0\n",
    "base_dataframe = {\"x_num\" : [], \"z_num\" : [], \"x_cord\" : [], \"z_cord\" : [], \"size\" : []}\n",
    "## Iterate for all our possibilites\n",
    "for i in worlds_name:\n",
    "    ## Adding new dataframe\n",
    "    series[i] = pd.DataFrame(base_dataframe)\n",
    "    ## Iterate for every chunks\n",
    "    for chunk in listdir(prev_path + i):\n",
    "        ## Taking all our values\n",
    "        values = chunk_to_info(chunk, i)\n",
    "        ## Add new row\n",
    "        series[i] = series[i].append(\n",
    "                    {\"x_num\" : values[0], \"z_num\" : values[1],\n",
    "                     \"x_cord\" : values[2], \"z_cord\" : values[3],\n",
    "                     \"size\" : values[4]}, ignore_index = True)\n",
    "        idx += 1\n",
    "        if idx % 500 == 0:\n",
    "            clear_output()\n",
    "            print(idx / chunks_total * 100)"
   ]
  },
  {
   "cell_type": "code",
   "execution_count": 1,
   "metadata": {},
   "outputs": [
    {
     "ename": "NameError",
     "evalue": "name 'listdir' is not defined",
     "output_type": "error",
     "traceback": [
      "\u001b[0;31m---------------------------------------------------------------------------\u001b[0m",
      "\u001b[0;31mNameError\u001b[0m                                 Traceback (most recent call last)",
      "\u001b[0;32m<ipython-input-1-92830e629a0b>\u001b[0m in \u001b[0;36m<module>\u001b[0;34m\u001b[0m\n\u001b[0;32m----> 1\u001b[0;31m \u001b[0ma\u001b[0m \u001b[0;34m=\u001b[0m \u001b[0mlistdir\u001b[0m\u001b[0;34m(\u001b[0m\u001b[0mprev_path\u001b[0m \u001b[0;34m+\u001b[0m \u001b[0;34m\"nether\"\u001b[0m\u001b[0;34m)\u001b[0m\u001b[0;34m\u001b[0m\u001b[0;34m\u001b[0m\u001b[0m\n\u001b[0m",
      "\u001b[0;31mNameError\u001b[0m: name 'listdir' is not defined"
     ]
    }
   ],
   "source": [
    "a = listdir(prev_path + \"nether\")"
   ]
  },
  {
   "cell_type": "code",
   "execution_count": 56,
   "metadata": {},
   "outputs": [],
   "source": [
    "nether_chunks = len(a)"
   ]
  },
  {
   "cell_type": "code",
   "execution_count": 51,
   "metadata": {},
   "outputs": [
    {
     "data": {
      "text/plain": [
       "79331"
      ]
     },
     "execution_count": 51,
     "metadata": {},
     "output_type": "execute_result"
    }
   ],
   "source": [
    "len(a)"
   ]
  },
  {
   "cell_type": "code",
   "execution_count": 60,
   "metadata": {},
   "outputs": [],
   "source": [
    "chunks_total = overworld_chunks + nether_chunks + end_chunks"
   ]
  },
  {
   "cell_type": "code",
   "execution_count": 61,
   "metadata": {},
   "outputs": [
    {
     "data": {
      "text/plain": [
       "471052"
      ]
     },
     "execution_count": 61,
     "metadata": {},
     "output_type": "execute_result"
    }
   ],
   "source": [
    "chunks_total"
   ]
  },
  {
   "cell_type": "code",
   "execution_count": 83,
   "metadata": {},
   "outputs": [
    {
     "data": {
      "text/plain": [
       "15209"
      ]
     },
     "execution_count": 83,
     "metadata": {},
     "output_type": "execute_result"
    }
   ],
   "source": [
    "series[\"end\"][\"size\"].idxmax()"
   ]
  },
  {
   "cell_type": "code",
   "execution_count": 91,
   "metadata": {},
   "outputs": [
    {
     "data": {
      "text/plain": [
       "182029"
      ]
     },
     "execution_count": 91,
     "metadata": {},
     "output_type": "execute_result"
    }
   ],
   "source": [
    "series[\"overworld\"][\"size\"].idxmax()"
   ]
  },
  {
   "cell_type": "code",
   "execution_count": 93,
   "metadata": {},
   "outputs": [
    {
     "data": {
      "text/plain": [
       "x_num               0\n",
       "z_num               0\n",
       "x_cord              0\n",
       "z_cord              0\n",
       "size      1.49012e+07\n",
       "Name: 182029, dtype: object"
      ]
     },
     "execution_count": 93,
     "metadata": {},
     "output_type": "execute_result"
    }
   ],
   "source": [
    "series[\"overworld\"].loc[182029]"
   ]
  },
  {
   "cell_type": "code",
   "execution_count": 97,
   "metadata": {},
   "outputs": [
    {
     "data": {
      "text/plain": [
       "'999'"
      ]
     },
     "execution_count": 97,
     "metadata": {},
     "output_type": "execute_result"
    }
   ],
   "source": [
    "series[\"overworld\"].x_num.max()"
   ]
  },
  {
   "cell_type": "code",
   "execution_count": null,
   "metadata": {},
   "outputs": [],
   "source": []
  }
 ],
 "metadata": {
  "kernelspec": {
   "display_name": "Python 3",
   "language": "python",
   "name": "python3"
  },
  "language_info": {
   "codemirror_mode": {
    "name": "ipython",
    "version": 3
   },
   "file_extension": ".py",
   "mimetype": "text/x-python",
   "name": "python",
   "nbconvert_exporter": "python",
   "pygments_lexer": "ipython3",
   "version": "3.7.6"
  }
 },
 "nbformat": 4,
 "nbformat_minor": 4
}
