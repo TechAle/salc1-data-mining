{
 "cells": [
  {
   "cell_type": "markdown",
   "metadata": {},
   "source": [
    "this file have to find what is the biggest chunk in all our 3 dimension.<br>\n",
    "Since my pc (obviously) Cant Handle (estimated) 7 terabytes of chunks, <br>\n",
    "Everytime i'll delete all the files, before, i have to search which chunk<br>\n",
    "is the heviest and, if his size is more then the before heviest, i'll replace it <br>"
   ]
  },
  {
   "cell_type": "markdown",
   "metadata": {},
   "source": [
    "# Library"
   ]
  },
  {
   "cell_type": "code",
   "execution_count": 1,
   "metadata": {},
   "outputs": [],
   "source": [
    "## For the location of a chunk\n",
    "from math import floor\n",
    "## For exporting\n",
    "import pandas as pd\n",
    "## Getting size of a file\n",
    "from os.path import getsize\n",
    "from os import listdir\n",
    "\n",
    "## Clear Output\n",
    "from IPython.display import clear_output"
   ]
  },
  {
   "cell_type": "markdown",
   "metadata": {},
   "source": [
    "## Function for gaining size of a chunk + coordinates"
   ]
  },
  {
   "cell_type": "code",
   "execution_count": 21,
   "metadata": {},
   "outputs": [],
   "source": [
    "prev_path = \"../../data/server/chunks/1_\"\n",
    "def return_size(chunk_name, world):\n",
    "    return getsize(prev_path + world + '/' + chunk_name)\n",
    "\n",
    "## For remove hidden files https://stackoverflow.com/questions/7099290/how-to-ignore-hidden-files-using-os-listdir\n",
    "def listdir_nohidden(path):\n",
    "    for f in listdir(path):\n",
    "        if not f.startswith('.'):\n",
    "            yield f"
   ]
  },
  {
   "cell_type": "code",
   "execution_count": 28,
   "metadata": {},
   "outputs": [
    {
     "name": "stdout",
     "output_type": "stream",
     "text": [
      "Chunk 32*32: r.-119.-114\n"
     ]
    }
   ],
   "source": [
    "worlds_name = [\"overworld\", \"nether\", \"end\"]\n",
    "idx = 0\n",
    "max_ = {\"name\" : \"-1\", \"size\" : getsize(\"./current_heaviest/max.nbt\"), \"world\" : \"-1\", \"chunk_32\" : \"-1\"}\n",
    "## Iterate for all our possibilites\n",
    "for i in worlds_name:\n",
    "    ## Iterate for every 32*chunks\n",
    "    for chunks_32 in listdir_nohidden(prev_path + i):\n",
    "        \n",
    "        clear_output()\n",
    "        print(\"Chunk 32*32: \" + chunks_32)\n",
    "        \n",
    "        ## Iterate for every chunks in the folder\n",
    "        for chunk in listdir(prev_path + i + \"/\" + chunks_32):\n",
    "            size_ = return_size(chunk, i + \"/\" + chunks_32 + \"/\" )\n",
    "            ## If his size is the bigger\n",
    "            if max_[\"size\"] < size_:\n",
    "                ## Set the new max_\n",
    "                max_[\"size\"] = size_\n",
    "                max_[\"name\"] = chunk\n",
    "                max_[\"world\"] = i\n",
    "                max_[\"chunk_32\"] = chunks_32\n"
   ]
  },
  {
   "cell_type": "code",
   "execution_count": 29,
   "metadata": {},
   "outputs": [
    {
     "data": {
      "text/plain": [
       "{'name': '252.nbt',\n",
       " 'size': 3638696,\n",
       " 'world': 'overworld',\n",
       " 'chunk_32': 'r.-101.2258'}"
      ]
     },
     "execution_count": 29,
     "metadata": {},
     "output_type": "execute_result"
    }
   ],
   "source": [
    "max_"
   ]
  },
  {
   "cell_type": "code",
   "execution_count": 2,
   "metadata": {},
   "outputs": [
    {
     "data": {
      "text/plain": [
       "3638696"
      ]
     },
     "execution_count": 2,
     "metadata": {},
     "output_type": "execute_result"
    }
   ],
   "source": [
    "getsize(\"./current_heaviest/max.nbt\")"
   ]
  },
  {
   "cell_type": "code",
   "execution_count": null,
   "metadata": {},
   "outputs": [],
   "source": []
  }
 ],
 "metadata": {
  "kernelspec": {
   "display_name": "Python 3",
   "language": "python",
   "name": "python3"
  },
  "language_info": {
   "codemirror_mode": {
    "name": "ipython",
    "version": 3
   },
   "file_extension": ".py",
   "mimetype": "text/x-python",
   "name": "python",
   "nbconvert_exporter": "python",
   "pygments_lexer": "ipython3",
   "version": "3.7.6"
  }
 },
 "nbformat": 4,
 "nbformat_minor": 4
}
