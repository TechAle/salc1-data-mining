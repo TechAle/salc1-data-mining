{
 "cells": [
  {
   "cell_type": "markdown",
   "metadata": {},
   "source": [
    "So, Since my pc run out of storage while he was decompressing, it fucked up and moved some files to 32_done without decompressing them. <br>\n",
    "I have to find all these errors and move them in the directory 32"
   ]
  },
  {
   "cell_type": "markdown",
   "metadata": {},
   "source": [
    "# Library"
   ]
  },
  {
   "cell_type": "code",
   "execution_count": 4,
   "metadata": {},
   "outputs": [],
   "source": [
    "## Using the cmd and reading files\n",
    "from os import popen, listdir\n",
    "## Clear Output\n",
    "from IPython.display import clear_output\n",
    "## For an easy and speedy comparation\n",
    "import pandas as pd"
   ]
  },
  {
   "cell_type": "code",
   "execution_count": 133,
   "metadata": {},
   "outputs": [],
   "source": [
    "## Our worlds\n",
    "worlds = [\"overworld\", \"nether\", \"end\"]\n",
    "## Our prev_path for go to our destination\n",
    "prev_path = \"../../data/server/chunks/\"\n",
    "## Create dictionary that will contains every files\n",
    "files_ = {  world : { world + \"1\" : [], world + \"32\" : [] } for world in worlds}"
   ]
  },
  {
   "cell_type": "code",
   "execution_count": 134,
   "metadata": {},
   "outputs": [
    {
     "name": "stdout",
     "output_type": "stream",
     "text": [
      "overworld\n",
      "1 done\n",
      "nether\n",
      "1 done\n",
      "end\n",
      "1 done\n"
     ]
    }
   ],
   "source": [
    "## Iterate for every worlds\n",
    "for world in worlds:\n",
    "    print(world)\n",
    "    ## Get every decompressed file\n",
    "    files_[world][\"1\"] = listdir(f\"{prev_path}1_{world}\")\n",
    "    print(\"1 done\")\n",
    "    ## Get every compressed file done\n",
    "    files_[world][\"32\"] = [file[:-4] for file in listdir(f\"{prev_path}32_{world}_done\")]"
   ]
  },
  {
   "cell_type": "code",
   "execution_count": 135,
   "metadata": {},
   "outputs": [],
   "source": [
    "## Taking every file that are not the same                                  -> for removing .DS_store (mac problems)\n",
    "to_move = { world : list(set(files_[world][\"32\"]) - set(files_[world][\"1\"]))[0:] for world in worlds }"
   ]
  },
  {
   "cell_type": "code",
   "execution_count": 125,
   "metadata": {},
   "outputs": [],
   "source": [
    "## Moving every files \n",
    "for world in to_move:\n",
    "    for chunk in to_move[world]:\n",
    "        popen(f\"mv {prev_path}32_{world}_done/{chunk}.mca {prev_path}32_{world}\")"
   ]
  },
  {
   "cell_type": "code",
   "execution_count": null,
   "metadata": {},
   "outputs": [],
   "source": []
  }
 ],
 "metadata": {
  "kernelspec": {
   "display_name": "Python 3",
   "language": "python",
   "name": "python3"
  },
  "language_info": {
   "codemirror_mode": {
    "name": "ipython",
    "version": 3
   },
   "file_extension": ".py",
   "mimetype": "text/x-python",
   "name": "python",
   "nbconvert_exporter": "python",
   "pygments_lexer": "ipython3",
   "version": "3.7.6"
  }
 },
 "nbformat": 4,
 "nbformat_minor": 4
}
