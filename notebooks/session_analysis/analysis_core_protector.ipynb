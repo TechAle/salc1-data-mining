{
 "cells": [
  {
   "cell_type": "markdown",
   "metadata": {},
   "source": [
    "This file join co_session with plan_session.<br>\n",
    "This file dont have to be executed, it exist only for explaining how i achieved the file \"session.csv\"\n",
    "## Library"
   ]
  },
  {
   "cell_type": "code",
   "execution_count": 1,
   "metadata": {},
   "outputs": [],
   "source": [
    "## Pandas for reading \n",
    "import pandas as pd\n",
    "## For transforming millisecond to date\n",
    "from datetime import datetime\n",
    "## Clear Output\n",
    "from IPython.display import clear_output\n",
    "## For nan array\n",
    "import numpy as np"
   ]
  },
  {
   "cell_type": "markdown",
   "metadata": {},
   "source": [
    "## Reading"
   ]
  },
  {
   "cell_type": "code",
   "execution_count": 2,
   "metadata": {},
   "outputs": [],
   "source": [
    "## Core_session dataset\n",
    "core_session = pd.read_csv(\"../../data/core_protector/co_session.csv\")\n",
    "## pla_session dataset\n",
    "server_session = pd.read_csv(\"../../data/server_table/plan_sessions.csv\", index_col = \"id\")\n",
    "## co_user dataset (id -> uuid)\n",
    "co_user = pd.read_csv(\"../../data/core_protector/co_user.csv\", index_col = \"id\")"
   ]
  },
  {
   "cell_type": "code",
   "execution_count": 23,
   "metadata": {},
   "outputs": [
    {
     "name": "stdout",
     "output_type": "stream",
     "text": [
      "First: b751b9ef-2b6f-4678-9908-718bf93d7089\tLast: 01d133c2-d7ee-4808-906f-4601b9f285fe\n"
     ]
    }
   ],
   "source": [
    "## Since after we delete session_end, i decided to do here the first and last log-out\n",
    "print(\"First: %s\\tLast: %s\" % (server_session.iloc[0][\"uuid\"], \\\n",
    "                              server_session[server_session.session_end == server_session.session_end.max()].iloc[-1][\"uuid\"]))"
   ]
  },
  {
   "cell_type": "markdown",
   "metadata": {},
   "source": [
    "## Time\n",
    "### server_session\n",
    "How much time the player had passes online "
   ]
  },
  {
   "cell_type": "code",
   "execution_count": 9,
   "metadata": {},
   "outputs": [],
   "source": [
    "date = []\n",
    "for i in range(server_session.__len__()):\n",
    "    ## Removing of the \"millisecond\" part\n",
    "    date.append(pd.Timestamp(datetime.fromtimestamp((server_session.iloc[i].session_start/1000.0).astype(int))))"
   ]
  },
  {
   "cell_type": "markdown",
   "metadata": {},
   "source": [
    "#### Adding/Removing Columns"
   ]
  },
  {
   "cell_type": "code",
   "execution_count": 10,
   "metadata": {},
   "outputs": [],
   "source": [
    "## Adding \"time\" columns\n",
    "server_session.insert(4, \"time\", server_session[\"session_end\"] - server_session[\"session_start\"])\n",
    "## Modifing \"session start\" with a human time\n",
    "server_session[\"session_start\"] = date\n",
    "## Removing \"session_end\" and \"server_uuid\"\n",
    "server_session.drop(columns = [\"session_end\", \"server_uuid\"], inplace = True)"
   ]
  },
  {
   "cell_type": "markdown",
   "metadata": {},
   "source": [
    "### core_session"
   ]
  },
  {
   "cell_type": "code",
   "execution_count": 11,
   "metadata": {},
   "outputs": [],
   "source": [
    "date = []\n",
    "for i in range(core_session.__len__()):\n",
    "    ## Transforming ms time to human\n",
    "    date.append(pd.Timestamp(datetime.fromtimestamp(core_session.iloc[i].time)))"
   ]
  },
  {
   "cell_type": "markdown",
   "metadata": {},
   "source": [
    "#### Editing Columns"
   ]
  },
  {
   "cell_type": "code",
   "execution_count": 12,
   "metadata": {},
   "outputs": [],
   "source": [
    "## Modifing \"session start\" with a human time\n",
    "core_session[\"time\"] = date\n",
    "## Replacing id with uuid\n",
    "core_session[\"user\"] = co_user.loc[core_session[\"user\"]].uuid.values\n",
    "## Renaming column user to uuid \n",
    "core_session.rename(columns = {\"user\" : \"uuid\"}, inplace = True)\n",
    "## Removing wid column\n",
    "core_session.drop(columns = [\"wid\"], inplace = True)"
   ]
  },
  {
   "cell_type": "markdown",
   "metadata": {},
   "source": [
    "### Adding coords join and coords left to our server_session"
   ]
  },
  {
   "cell_type": "markdown",
   "metadata": {},
   "source": [
    "#### Removing duplicates\n",
    "So, for some reason there are more people that has left the server then people that has join the server.<br>\n",
    "So i have to remove every error that the server made.<br>"
   ]
  },
  {
   "cell_type": "code",
   "execution_count": 13,
   "metadata": {},
   "outputs": [],
   "source": [
    "## Lenght of core_session\n",
    "len_ = core_session.__len__()\n",
    "## Max Distance\n",
    "distance = 1000\n",
    "## Final Output\n",
    "coordinates = pd.DataFrame({\"uuid\" : [], \"time\" : [], \"x_join\" : [], \"x_left\" : [], \"y_join\" : [], \"y_left\" : [], \"z_join\" : [], \"z_left\" : []})\n",
    "## Number Success\n",
    "success = 0"
   ]
  },
  {
   "cell_type": "code",
   "execution_count": 14,
   "metadata": {},
   "outputs": [],
   "source": [
    "## Since this will take long (my pc took 8 hours) i created a backup called \"coordinates.pkl\".\n",
    "## If you still want to spend 8 hours, set \"True\" in the if that is under this line\n",
    "if False:\n",
    "    for i in range(len_):\n",
    "        val = core_session.iloc[i]\n",
    "        ## If the guy join\n",
    "        if val.action == 1:\n",
    "            ## Iterate\n",
    "            for j in range(distance):\n",
    "                ## If we are in the range\n",
    "                if i + j < len_:\n",
    "                    ## If the uuid is the same and it's a left\n",
    "                    if val.uuid == core_session.iloc[i + j].uuid and core_session.iloc[i + j].action == 0:\n",
    "                        ## Add and left\n",
    "                        coordinates = coordinates.append({\n",
    "                                            \"uuid\" : val.uuid, \"time\" : val.time, \n",
    "                                            \"x_join\" : val.x, \"x_left\" : core_session.iloc[i + j].x,\n",
    "                                            \"y_join\" : val.y, \"y_left\" : core_session.iloc[i + j].y,\n",
    "                                            \"z_join\" : val.z, \"z_left\" : core_session.iloc[i + j].z}, \n",
    "                                             ignore_index = True)\n",
    "                        success += 1\n",
    "                        break\n",
    "\n",
    "        if i % 500 == 0:\n",
    "            clear_output()\n",
    "            print(\"Time: {}%\\nSuccess: {}/{}\".format(i / len_ * 100, success, i + 1))\n",
    "\n",
    "    clear_output()\n",
    "    print(\"Time: {}%\\nSuccess: {}/{}\".format(i / len_ * 100, success, i + 1))\n",
    "else:\n",
    "    coordinates = pd.read_pickle(\"./backup/coordinates.pkl\")"
   ]
  },
  {
   "cell_type": "markdown",
   "metadata": {},
   "source": [
    "### Adding to server_session\n",
    "Now we have to join our two dataframe <br>\n",
    "Since server_session and coordinates (for some reason) sometimes they dont have what the other has,<br>\n",
    "we have to create an algorithm that find every elements that both of them have<br>\n",
    "We use server_session as a base and we'll iterate coordinates <br>\n",
    "Every new value of coordinates, we take his time, with this value we search if server session <br>\n",
    "has in some row the same value and, if yes, we check in all of these rows if the uuid is the same. <br>\n",
    "If yes we can finally add our coordinates"
   ]
  },
  {
   "cell_type": "code",
   "execution_count": 15,
   "metadata": {},
   "outputs": [],
   "source": [
    "## Adding some empty columns\n",
    "server_session = pd.concat([server_session,pd.DataFrame(columns=[\"x_join\", \"x_left\", \"y_join\", \"y_left\", \"z_join\", \"z_left\", \"id\"])])"
   ]
  },
  {
   "cell_type": "code",
   "execution_count": 16,
   "metadata": {},
   "outputs": [
    {
     "name": "stdout",
     "output_type": "stream",
     "text": [
      "Time: 0.3179037006110109%\n"
     ]
    },
    {
     "name": "stderr",
     "output_type": "stream",
     "text": [
      "\n",
      "KeyboardInterrupt\n",
      "\n"
     ]
    }
   ],
   "source": [
    "for i in range(coordinates.__len__()):\n",
    "    ## Finding every possibilities\n",
    "    possibilites = server_session[\"session_start\"] == coordinates[\"time\"][i]\n",
    "    ## if it's != 0 (so we have 2 values), We have at least 1 possibily\n",
    "    if possibilites.value_counts().__len__() != 1:\n",
    "        ## Lets store all our possibilites\n",
    "        possibilites = server_session[possibilites]\n",
    "        ## Iterate\n",
    "        for j in possibilites.index:\n",
    "            ## If there is a match\n",
    "            if possibilites.loc[j].uuid == coordinates.iloc[i].uuid:\n",
    "                ## We can add our values\n",
    "                server_session.loc[j, \"x_join\" : \"z_left\"] = coordinates.loc[i, \"x_join\" : \"z_left\"]\n",
    "                server_session.loc[j, \"id\"] = i\n",
    "                continue\n",
    "    ## Print\n",
    "    if i % 500 == 0:\n",
    "        clear_output()\n",
    "        print(\"Time: {}%\".format(i / coordinates.__len__()* 100))"
   ]
  },
  {
   "cell_type": "markdown",
   "metadata": {},
   "source": [
    "### Add name to uuid"
   ]
  },
  {
   "cell_type": "code",
   "execution_count": 15,
   "metadata": {},
   "outputs": [],
   "source": [
    "## Import uuid\n",
    "uuid_db = pd.read_pickle(\"../../data/ufficial/pickle/uuid.pkl\")"
   ]
  },
  {
   "cell_type": "code",
   "execution_count": 6,
   "metadata": {},
   "outputs": [],
   "source": [
    "server_session[\"name\"] = server_session.apply(lambda x : uuid_db[uuid_db[\"uuid\"] == x[\"uuid\"]].iloc[0].nickname,\\\n",
    "                                       axis=1)"
   ]
  },
  {
   "cell_type": "markdown",
   "metadata": {},
   "source": [
    "### Exporting"
   ]
  },
  {
   "cell_type": "code",
   "execution_count": 10,
   "metadata": {},
   "outputs": [],
   "source": [
    "server_session.to_csv(\"../../data/ufficial/csv/session.csv\")\n",
    "server_session.to_pickle(\"../../data/ufficial/pickle/session.pkl\")"
   ]
  },
  {
   "cell_type": "code",
   "execution_count": 25,
   "metadata": {},
   "outputs": [
    {
     "data": {
      "text/plain": [
       "'CactusDuper'"
      ]
     },
     "execution_count": 25,
     "metadata": {},
     "output_type": "execute_result"
    }
   ],
   "source": [
    "uuid_db[uuid_db[\"uuid\"] == \"6d026b92-5b15-4555-84fd-db4d1162eac9\"].iloc[0].nickname"
   ]
  },
  {
   "cell_type": "code",
   "execution_count": 18,
   "metadata": {},
   "outputs": [
    {
     "data": {
      "text/html": [
       "<div>\n",
       "<style scoped>\n",
       "    .dataframe tbody tr th:only-of-type {\n",
       "        vertical-align: middle;\n",
       "    }\n",
       "\n",
       "    .dataframe tbody tr th {\n",
       "        vertical-align: top;\n",
       "    }\n",
       "\n",
       "    .dataframe thead th {\n",
       "        text-align: right;\n",
       "    }\n",
       "</style>\n",
       "<table border=\"1\" class=\"dataframe\">\n",
       "  <thead>\n",
       "    <tr style=\"text-align: right;\">\n",
       "      <th></th>\n",
       "      <th>uuid</th>\n",
       "      <th>server_uuid</th>\n",
       "      <th>session_start</th>\n",
       "      <th>session_end</th>\n",
       "      <th>mob_kills</th>\n",
       "      <th>deaths</th>\n",
       "      <th>afk_time</th>\n",
       "    </tr>\n",
       "    <tr>\n",
       "      <th>id</th>\n",
       "      <th></th>\n",
       "      <th></th>\n",
       "      <th></th>\n",
       "      <th></th>\n",
       "      <th></th>\n",
       "      <th></th>\n",
       "      <th></th>\n",
       "    </tr>\n",
       "  </thead>\n",
       "  <tbody>\n",
       "    <tr>\n",
       "      <th>493196</th>\n",
       "      <td>6d026b92-5b15-4555-84fd-db4d1162eac9</td>\n",
       "      <td>61326e77-a38f-442e-a4da-4e105b26b8ae</td>\n",
       "      <td>1586823817114</td>\n",
       "      <td>1586824443664</td>\n",
       "      <td>0</td>\n",
       "      <td>0</td>\n",
       "      <td>0</td>\n",
       "    </tr>\n",
       "    <tr>\n",
       "      <th>493197</th>\n",
       "      <td>13ed27d3-b345-4bac-aae4-497d8e30dd9b</td>\n",
       "      <td>61326e77-a38f-442e-a4da-4e105b26b8ae</td>\n",
       "      <td>1586823378193</td>\n",
       "      <td>1586824443664</td>\n",
       "      <td>0</td>\n",
       "      <td>0</td>\n",
       "      <td>0</td>\n",
       "    </tr>\n",
       "    <tr>\n",
       "      <th>493198</th>\n",
       "      <td>c0ce433b-c1de-4535-a2e5-4a22e621759d</td>\n",
       "      <td>61326e77-a38f-442e-a4da-4e105b26b8ae</td>\n",
       "      <td>1586823381429</td>\n",
       "      <td>1586824443664</td>\n",
       "      <td>0</td>\n",
       "      <td>0</td>\n",
       "      <td>0</td>\n",
       "    </tr>\n",
       "    <tr>\n",
       "      <th>493199</th>\n",
       "      <td>01d133c2-d7ee-4808-906f-4601b9f285fe</td>\n",
       "      <td>61326e77-a38f-442e-a4da-4e105b26b8ae</td>\n",
       "      <td>1586824230518</td>\n",
       "      <td>1586824443664</td>\n",
       "      <td>0</td>\n",
       "      <td>0</td>\n",
       "      <td>0</td>\n",
       "    </tr>\n",
       "    <tr>\n",
       "      <th>493200</th>\n",
       "      <td>6d026b92-5b15-4555-84fd-db4d1162eac9</td>\n",
       "      <td>61326e77-a38f-442e-a4da-4e105b26b8ae</td>\n",
       "      <td>1586823817114</td>\n",
       "      <td>1586824443664</td>\n",
       "      <td>0</td>\n",
       "      <td>0</td>\n",
       "      <td>0</td>\n",
       "    </tr>\n",
       "    <tr>\n",
       "      <th>493201</th>\n",
       "      <td>13ed27d3-b345-4bac-aae4-497d8e30dd9b</td>\n",
       "      <td>61326e77-a38f-442e-a4da-4e105b26b8ae</td>\n",
       "      <td>1586823378193</td>\n",
       "      <td>1586824443664</td>\n",
       "      <td>0</td>\n",
       "      <td>0</td>\n",
       "      <td>0</td>\n",
       "    </tr>\n",
       "    <tr>\n",
       "      <th>493202</th>\n",
       "      <td>c0ce433b-c1de-4535-a2e5-4a22e621759d</td>\n",
       "      <td>61326e77-a38f-442e-a4da-4e105b26b8ae</td>\n",
       "      <td>1586823381429</td>\n",
       "      <td>1586824443664</td>\n",
       "      <td>0</td>\n",
       "      <td>0</td>\n",
       "      <td>0</td>\n",
       "    </tr>\n",
       "    <tr>\n",
       "      <th>493203</th>\n",
       "      <td>01d133c2-d7ee-4808-906f-4601b9f285fe</td>\n",
       "      <td>61326e77-a38f-442e-a4da-4e105b26b8ae</td>\n",
       "      <td>1586824230518</td>\n",
       "      <td>1586824443664</td>\n",
       "      <td>0</td>\n",
       "      <td>0</td>\n",
       "      <td>0</td>\n",
       "    </tr>\n",
       "  </tbody>\n",
       "</table>\n",
       "</div>"
      ],
      "text/plain": [
       "                                        uuid  \\\n",
       "id                                             \n",
       "493196  6d026b92-5b15-4555-84fd-db4d1162eac9   \n",
       "493197  13ed27d3-b345-4bac-aae4-497d8e30dd9b   \n",
       "493198  c0ce433b-c1de-4535-a2e5-4a22e621759d   \n",
       "493199  01d133c2-d7ee-4808-906f-4601b9f285fe   \n",
       "493200  6d026b92-5b15-4555-84fd-db4d1162eac9   \n",
       "493201  13ed27d3-b345-4bac-aae4-497d8e30dd9b   \n",
       "493202  c0ce433b-c1de-4535-a2e5-4a22e621759d   \n",
       "493203  01d133c2-d7ee-4808-906f-4601b9f285fe   \n",
       "\n",
       "                                 server_uuid  session_start    session_end  \\\n",
       "id                                                                           \n",
       "493196  61326e77-a38f-442e-a4da-4e105b26b8ae  1586823817114  1586824443664   \n",
       "493197  61326e77-a38f-442e-a4da-4e105b26b8ae  1586823378193  1586824443664   \n",
       "493198  61326e77-a38f-442e-a4da-4e105b26b8ae  1586823381429  1586824443664   \n",
       "493199  61326e77-a38f-442e-a4da-4e105b26b8ae  1586824230518  1586824443664   \n",
       "493200  61326e77-a38f-442e-a4da-4e105b26b8ae  1586823817114  1586824443664   \n",
       "493201  61326e77-a38f-442e-a4da-4e105b26b8ae  1586823378193  1586824443664   \n",
       "493202  61326e77-a38f-442e-a4da-4e105b26b8ae  1586823381429  1586824443664   \n",
       "493203  61326e77-a38f-442e-a4da-4e105b26b8ae  1586824230518  1586824443664   \n",
       "\n",
       "        mob_kills  deaths  afk_time  \n",
       "id                                   \n",
       "493196          0       0         0  \n",
       "493197          0       0         0  \n",
       "493198          0       0         0  \n",
       "493199          0       0         0  \n",
       "493200          0       0         0  \n",
       "493201          0       0         0  \n",
       "493202          0       0         0  \n",
       "493203          0       0         0  "
      ]
     },
     "execution_count": 18,
     "metadata": {},
     "output_type": "execute_result"
    }
   ],
   "source": [
    "server_session[server_session.session_end == server_session.session_end.max()]"
   ]
  },
  {
   "cell_type": "code",
   "execution_count": null,
   "metadata": {},
   "outputs": [],
   "source": []
  }
 ],
 "metadata": {
  "kernelspec": {
   "display_name": "Python 3",
   "language": "python",
   "name": "python3"
  },
  "language_info": {
   "codemirror_mode": {
    "name": "ipython",
    "version": 3
   },
   "file_extension": ".py",
   "mimetype": "text/x-python",
   "name": "python",
   "nbconvert_exporter": "python",
   "pygments_lexer": "ipython3",
   "version": "3.7.6"
  }
 },
 "nbformat": 4,
 "nbformat_minor": 1
}
