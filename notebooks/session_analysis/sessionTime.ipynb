{
 "cells": [
  {
   "cell_type": "markdown",
   "metadata": {},
   "source": [
    "## Libraries"
   ]
  },
  {
   "cell_type": "code",
   "execution_count": 192,
   "metadata": {},
   "outputs": [],
   "source": [
    "## For loading the pickle\n",
    "import pandas as pd\n",
    "import numpy as np\n",
    "import matplotlib.pyplot as plt\n",
    "## Clear Output\n",
    "from IPython.display import clear_output"
   ]
  },
  {
   "cell_type": "markdown",
   "metadata": {},
   "source": [
    "## load Database"
   ]
  },
  {
   "cell_type": "code",
   "execution_count": 184,
   "metadata": {},
   "outputs": [],
   "source": [
    "## Read the dataframe\n",
    "df = pd.read_pickle(\"../../data/ufficial/pickle/session.pkl\")\n",
    "## Make time in Minutes\n",
    "df[\"time\"] /= 6E4"
   ]
  },
  {
   "cell_type": "markdown",
   "metadata": {},
   "source": [
    "## Functions"
   ]
  },
  {
   "cell_type": "markdown",
   "metadata": {},
   "source": [
    "### Graph"
   ]
  },
  {
   "cell_type": "code",
   "execution_count": 185,
   "metadata": {},
   "outputs": [],
   "source": [
    "## Algo for creating the graph\n",
    "def createGraph(top5):\n",
    "    ## Use this style for the plot\n",
    "    plt.style.use(\"ggplot\")\n",
    "    ## Incr the size\n",
    "    plt.figure(figsize=(15,7))\n",
    "    ## Put it on the graph\n",
    "    plt.barh(top5.index.astype(str), top5.values)\n",
    "    ## Order it\n",
    "    plt.gca().invert_yaxis()\n",
    "\n",
    "    ## Add %\n",
    "    for index, value in enumerate(top5):\n",
    "        plt.text(value, index, \" %\" + str(value) )\n",
    "\n",
    "    ## Show\n",
    "    plt.show()"
   ]
  },
  {
   "cell_type": "markdown",
   "metadata": {},
   "source": [
    "### Informations"
   ]
  },
  {
   "cell_type": "code",
   "execution_count": 186,
   "metadata": {},
   "outputs": [],
   "source": [
    "def getInfoOne(wanted):\n",
    "    baseClass = pd.DataFrame({\n",
    "        wanted: [],\n",
    "        \"Num\": [],\n",
    "        \"Perc\": []\n",
    "    })\n",
    "    ## Lets make a classification of the session time\n",
    "    baseClass = df.sort_values(by=[wanted],  ascending=False)[[wanted, \"name\"]].reset_index()\n",
    "    baseClass.index += 1\n",
    "    ## Lets remove the column index\n",
    "    baseClass = baseClass.drop(\"index\", axis = 1)\n",
    "    \n",
    "    dbExport = baseClass.copy()\n",
    "    dbExport[\"perc\"] = baseClass[wanted].copy() / df[wanted].sum() * 100\n",
    "    \n",
    "    ## Export\n",
    "    dbExport.to_csv(\"../../results/session/%sOne.csv\" % (wanted))\n",
    "    \n",
    "    ## Print the first\n",
    "    print(\"One Max: Name: %s with %s\" % \\\n",
    "          (dbExport.iloc[0][\"name\"],\\\n",
    "           dbExport.iloc[0][wanted]))\n",
    "    \n",
    "    ## Create Graph\n",
    "    createGraph((df[[wanted, \"name\"]].sort_values(by=[wanted], ascending = False).\\\n",
    "                    drop_duplicates(subset=[\"name\"]).\\\n",
    "                    set_index(\"name\")[:5] / df[wanted].sum() * 100).squeeze().round(4))\n",
    "    "
   ]
  },
  {
   "cell_type": "code",
   "execution_count": 187,
   "metadata": {},
   "outputs": [],
   "source": [
    "def getInfoAll(want):\n",
    "    registredKills = df[want].sum()\n",
    "    genClass = pd.DataFrame({\n",
    "        want: [],\n",
    "        \"Num\": [],\n",
    "        \"Perc\": []\n",
    "    })\n",
    "    rif = df.groupby(\"name\")[want].sum().sort_values(ascending = False)\n",
    "    ## Print killers \n",
    "    ris = pd.DataFrame(rif).reset_index()\n",
    "    \n",
    "    dbExport = ris.copy()\n",
    "    dbExport[\"perc\"] = ris[want] / registredKills * 100\n",
    "    \n",
    "    ## Export this\n",
    "    dbExport.to_csv(\"../../results/session/%s/%sAll.csv\" % (want,want))\n",
    "    \n",
    "    print(\"All Max: Name: %s with %s\" % \\\n",
    "          (dbExport.iloc[0][\"name\"],\\\n",
    "           dbExport.iloc[0][want]))\n",
    "    \n",
    "    ## Graph first 5 killers\n",
    "    createGraph(((rif / registredKills * 100)[:5].round(3))[:5].round(3))"
   ]
  },
  {
   "cell_type": "code",
   "execution_count": 203,
   "metadata": {},
   "outputs": [],
   "source": [
    "def getSum(want):\n",
    "    print(want + \" total: %f\" % df[want].sum())"
   ]
  },
  {
   "cell_type": "markdown",
   "metadata": {},
   "source": [
    "## Data extraction (simple)"
   ]
  },
  {
   "cell_type": "markdown",
   "metadata": {},
   "source": [
    "### Session Login"
   ]
  },
  {
   "cell_type": "code",
   "execution_count": 210,
   "metadata": {},
   "outputs": [
    {
     "name": "stdout",
     "output_type": "stream",
     "text": [
      "First: SalC1\tLast: spit4520\n"
     ]
    },
    {
     "data": {
      "text/plain": [
       "''"
      ]
     },
     "execution_count": 210,
     "metadata": {},
     "output_type": "execute_result"
    }
   ],
   "source": [
    "## First and last login\n",
    "print(\"First: %s\\tLast: %s\" % (df.iloc[0][\"name\"], df.iloc[-1][\"name\"]))\n",
    "## For the first and last logout, go to analysis_core_protector\n",
    "'''\n",
    " The result is: First: b751b9ef-2b6f-4678-9908-718bf93d7089\tLast: 01d133c2-d7ee-4808-906f-4601b9f285fe\n",
    " Lets get their name.\n",
    " First: SalC1, Last: spit4520.\n",
    " There are a lot of people that log-out at the last moment, the last registred is CactusDuper, but the others are:\n",
    " 6d026b92-5b15-4555-84fd-db4d1162eac9 : CactusDuper\n",
    " 13ed27d3-b345-4bac-aae4-497d8e30dd9b : WittleRain\n",
    " c0ce433b-c1de-4535-a2e5-4a22e621759d : mcrcortex\n",
    " Lol, the first and last login are the same as first and last log-out\n",
    "'''\n",
    "''''''"
   ]
  },
  {
   "cell_type": "markdown",
   "metadata": {},
   "source": [
    "### Session Time"
   ]
  },
  {
   "cell_type": "code",
   "execution_count": 218,
   "metadata": {},
   "outputs": [],
   "source": [
    "getInfoOne(\"time\")\n",
    "getInfoAll(\"time\")\n",
    "getSum(\"time\")\n",
    "clear_output()"
   ]
  },
  {
   "cell_type": "markdown",
   "metadata": {},
   "source": [
    "### Mob Killed"
   ]
  },
  {
   "cell_type": "code",
   "execution_count": 219,
   "metadata": {},
   "outputs": [],
   "source": [
    "getInfoOne(\"mob_kills\")\n",
    "getInfoAll(\"mob_kills\")\n",
    "getSum(\"mob_kills\")\n",
    "clear_output()"
   ]
  },
  {
   "cell_type": "markdown",
   "metadata": {},
   "source": [
    "### Deaths"
   ]
  },
  {
   "cell_type": "code",
   "execution_count": 220,
   "metadata": {},
   "outputs": [],
   "source": [
    "getInfoOne(\"deaths\")\n",
    "getInfoAll(\"deaths\")\n",
    "getSum(\"deaths\")\n",
    "clear_output()"
   ]
  },
  {
   "cell_type": "markdown",
   "metadata": {},
   "source": [
    "### Afk Time"
   ]
  },
  {
   "cell_type": "code",
   "execution_count": 221,
   "metadata": {},
   "outputs": [],
   "source": [
    "getInfoOne(\"afk_time\")\n",
    "getInfoAll(\"afk_time\")\n",
    "getSum(\"afk_time\")\n",
    "clear_output()"
   ]
  },
  {
   "cell_type": "code",
   "execution_count": null,
   "metadata": {},
   "outputs": [],
   "source": []
  },
  {
   "cell_type": "code",
   "execution_count": null,
   "metadata": {},
   "outputs": [],
   "source": []
  }
 ],
 "metadata": {
  "kernelspec": {
   "display_name": "Python 3",
   "language": "python",
   "name": "python3"
  },
  "language_info": {
   "codemirror_mode": {
    "name": "ipython",
    "version": 3
   },
   "file_extension": ".py",
   "mimetype": "text/x-python",
   "name": "python",
   "nbconvert_exporter": "python",
   "pygments_lexer": "ipython3",
   "version": "3.7.6"
  }
 },
 "nbformat": 4,
 "nbformat_minor": 4
}
