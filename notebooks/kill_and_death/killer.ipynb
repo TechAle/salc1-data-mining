{
 "cells": [
  {
   "cell_type": "markdown",
   "metadata": {},
   "source": [
    "This file dont have to be executed, it exist only for explaining how i achieved the file \"kills.csv\"<br>\n",
    "The file \"session.csv\" is required\n",
    "# Library"
   ]
  },
  {
   "cell_type": "code",
   "execution_count": 1,
   "metadata": {},
   "outputs": [],
   "source": [
    "## Pandas for reading \n",
    "import pandas as pd\n",
    "## Clear Output\n",
    "from IPython.display import clear_output\n",
    "## For transforming millisecond to date\n",
    "from datetime import datetime\n",
    "## For nan\n",
    "import numpy as np\n",
    "import math"
   ]
  },
  {
   "cell_type": "markdown",
   "metadata": {},
   "source": [
    "# DataSet"
   ]
  },
  {
   "cell_type": "code",
   "execution_count": 2,
   "metadata": {},
   "outputs": [],
   "source": [
    "kill_db = pd.read_csv(\"../../data/server_table/plan_kills.csv\", index_col = \"id\")\n",
    "## Removing the column \"server_uuid\"\n",
    "kill_db.drop(columns = [\"server_uuid\"], inplace = True)\n",
    "date = []\n",
    "for i in range(kill_db.__len__()):\n",
    "    ## Transforming ms time to human\n",
    "    date.append(pd.Timestamp(datetime.fromtimestamp((kill_db.iloc[i].date/1000.0).astype(int))))\n",
    "## Replacing\n",
    "kill_db.date = date"
   ]
  },
  {
   "cell_type": "markdown",
   "metadata": {},
   "source": [
    "# Analyze"
   ]
  },
  {
   "cell_type": "markdown",
   "metadata": {},
   "source": [
    "## Dictionary\n",
    "Lets count every kill - death and what weapon was used."
   ]
  },
  {
   "cell_type": "code",
   "execution_count": 3,
   "metadata": {},
   "outputs": [],
   "source": [
    "## First of all, we have to create our dictionary that will contains every value we want.\n",
    "## Count every killer\n",
    "killer = {uuid : kills for uuid, kills in kill_db[\"killer_uuid\"].value_counts().iteritems()}\n",
    "## Count every victim\n",
    "victim = {uuid : death for uuid, death in kill_db[\"victim_uuid\"].value_counts().iteritems()}\n",
    "## Before doing for every item, we have to replace \"air\" with \"hand\"\n",
    "kill_db.weapon = kill_db.weapon.replace(\"Air\", \"Hand\")\n",
    "weapon = {weapon : kill for weapon, kill in kill_db[\"weapon\"].value_counts().iteritems()}"
   ]
  },
  {
   "cell_type": "markdown",
   "metadata": {},
   "source": [
    "## Location\n",
    "Since we dont have any coordinates, we cannot say the excact location.<br>\n",
    "I found another way, the only downside is that is not precise and we have to approximate: <br>\n",
    "We can take the coordinates where the guy joined before he died. <br>\n",
    "I know it's not precise, but it's our only way"
   ]
  },
  {
   "cell_type": "markdown",
   "metadata": {},
   "source": [
    "### Variable"
   ]
  },
  {
   "cell_type": "code",
   "execution_count": 4,
   "metadata": {},
   "outputs": [],
   "source": [
    "## Read our session\n",
    "session = pd.read_pickle(\"../../data/ufficial/pickle/session.pkl\")"
   ]
  },
  {
   "cell_type": "code",
   "execution_count": 5,
   "metadata": {},
   "outputs": [],
   "source": [
    "## From an index, get the coordinates\n",
    "def get_position(index):\n",
    "    ## Get the session\n",
    "    index_session = kill_db.at[index, \"session_id\"]\n",
    "    ## Return x-y-z\n",
    "    return session.loc[index_session][[\"x_join\", \"y_join\", \"z_join\"]]"
   ]
  },
  {
   "cell_type": "code",
   "execution_count": 6,
   "metadata": {},
   "outputs": [
    {
     "name": "stdout",
     "output_type": "stream",
     "text": [
      "99.98018410765434\n"
     ]
    }
   ],
   "source": [
    "## The list where we are going to store our datas\n",
    "last = kill_db.index[-1]\n",
    "## Add columns\n",
    "kill_db[[\"x_death\", \"y_death\", \"z_death\"]] = pd.DataFrame([[np.nan, np.nan, np.nan]], index = kill_db.index)\n",
    "## Iterate\n",
    "for i in kill_db.index.values:\n",
    "    ## Append the position\n",
    "    kill_db.loc[i, [\"x_death\", \"y_death\", \"z_death\"]] = get_position(i).values\n",
    "    if i % 500 == 0:\n",
    "        clear_output()\n",
    "        print(i / last * 100)"
   ]
  },
  {
   "cell_type": "markdown",
   "metadata": {},
   "source": [
    "# Uuid to Name"
   ]
  },
  {
   "cell_type": "code",
   "execution_count": 7,
   "metadata": {},
   "outputs": [],
   "source": [
    "## Import uuid\n",
    "uuid_db = pd.read_pickle(\"../../data/ufficial/pickle/uuid.pkl\")\n",
    "## Make both time the same exponent\n",
    "kill_db[\"date\"] = kill_db[\"date\"].astype(np.int64) / 1E5\n",
    "uuid_db[\"time\"] = uuid_db[\"time\"] * 1E1"
   ]
  },
  {
   "cell_type": "markdown",
   "metadata": {},
   "source": [
    "#### Lets find everything we want\n",
    "so, i dunno why but, for some reasons, some uuid have multiple names. that's why of the iloc[0]"
   ]
  },
  {
   "cell_type": "code",
   "execution_count": 25,
   "metadata": {},
   "outputs": [],
   "source": [
    "kill_db[\"killer_name\"] = kill_db.apply(lambda x : uuid_db[uuid_db[\"uuid\"] == x[\"killer_uuid\"]].iloc[0].nickname,\\\n",
    "                                       axis=1)"
   ]
  },
  {
   "cell_type": "code",
   "execution_count": 26,
   "metadata": {},
   "outputs": [],
   "source": [
    "kill_db[\"victim_name\"] = kill_db.apply(lambda x : uuid_db[uuid_db[\"uuid\"] == x[\"victim_uuid\"]].iloc[0].nickname,\\\n",
    "                                       axis=1)"
   ]
  },
  {
   "cell_type": "markdown",
   "metadata": {},
   "source": [
    "# Export csv"
   ]
  },
  {
   "cell_type": "code",
   "execution_count": 27,
   "metadata": {},
   "outputs": [],
   "source": [
    "kill_db.to_csv(\"../../data/ufficial/csv/kills.csv\")\n",
    "kill_db.to_pickle(\"../../data/ufficial/pickle/kills.pkl\")"
   ]
  },
  {
   "cell_type": "code",
   "execution_count": null,
   "metadata": {},
   "outputs": [],
   "source": []
  }
 ],
 "metadata": {
  "kernelspec": {
   "display_name": "Python 3",
   "language": "python",
   "name": "python3"
  },
  "language_info": {
   "codemirror_mode": {
    "name": "ipython",
    "version": 3
   },
   "file_extension": ".py",
   "mimetype": "text/x-python",
   "name": "python",
   "nbconvert_exporter": "python",
   "pygments_lexer": "ipython3",
   "version": "3.7.6"
  }
 },
 "nbformat": 4,
 "nbformat_minor": 4
}
