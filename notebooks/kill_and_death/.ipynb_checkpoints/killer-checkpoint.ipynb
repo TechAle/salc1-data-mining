{
 "cells": [
  {
   "cell_type": "markdown",
   "metadata": {},
   "source": [
    "This file dont have to be executed, it exist only for explaining how i achieved the file \"kills.csv\"<br>\n",
    "The file \"session.csv\" is required\n",
    "# Library"
   ]
  },
  {
   "cell_type": "code",
   "execution_count": 1,
   "metadata": {},
   "outputs": [],
   "source": [
    "## Pandas for reading \n",
    "import pandas as pd\n",
    "## Clear Output\n",
    "from IPython.display import clear_output"
   ]
  },
  {
   "cell_type": "markdown",
   "metadata": {},
   "source": [
    "# DataSet"
   ]
  },
  {
   "cell_type": "code",
   "execution_count": 3,
   "metadata": {},
   "outputs": [],
   "source": [
    "## Our DataSet\n",
    "kill_db = pd.read_csv(\"../data/server/plan_kills.csv\")"
   ]
  },
  {
   "cell_type": "markdown",
   "metadata": {},
   "source": [
    "# Analyze"
   ]
  },
  {
   "cell_type": "markdown",
   "metadata": {},
   "source": [
    "## Dictionary\n",
    "Lets count every kill - death and what weapon was used."
   ]
  },
  {
   "cell_type": "code",
   "execution_count": 20,
   "metadata": {},
   "outputs": [],
   "source": [
    "## First of all, we have to create our dictionary that will contains every value we want.\n",
    "## Count every killer\n",
    "killer = {uuid : kills for uuid, kills in kill_db[\"killer_uuid\"].value_counts().iteritems()}\n",
    "## Count every victim\n",
    "victim = {uuid : death for uuid, death in kill_db[\"victim_uuid\"].value_counts().iteritems()}\n",
    "## Before doing for every item, we have to replace \"air\" with \"hand\"\n",
    "kill_db.weapon = kill_db.weapon.replace(\"Air\", \"Hand\")\n",
    "weapon = {weapon : kill for weapon, kill in kill_db[\"weapon\"].value_counts().iteritems()}"
   ]
  },
  {
   "cell_type": "markdown",
   "metadata": {},
   "source": [
    "## Location\n",
    "Since we dont have any coordinates, we cannot say the excact location.<br>\n",
    "But, instead of the coordinates, we have the uuid and the session_id.<br>\n",
    "With the file \"session.csv\", we maybe can find the location where the guy died"
   ]
  },
  {
   "cell_type": "code",
   "execution_count": 24,
   "metadata": {},
   "outputs": [],
   "source": [
    "# TODO"
   ]
  },
  {
   "cell_type": "code",
   "execution_count": null,
   "metadata": {},
   "outputs": [],
   "source": []
  }
 ],
 "metadata": {
  "kernelspec": {
   "display_name": "Python 3",
   "language": "python",
   "name": "python3"
  },
  "language_info": {
   "codemirror_mode": {
    "name": "ipython",
    "version": 3
   },
   "file_extension": ".py",
   "mimetype": "text/x-python",
   "name": "python",
   "nbconvert_exporter": "python",
   "pygments_lexer": "ipython3",
   "version": "3.7.6"
  }
 },
 "nbformat": 4,
 "nbformat_minor": 4
}
