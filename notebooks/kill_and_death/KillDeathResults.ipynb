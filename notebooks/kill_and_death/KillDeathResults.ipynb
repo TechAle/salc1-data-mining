{
 "cells": [
  {
   "cell_type": "markdown",
   "metadata": {},
   "source": [
    "# Library"
   ]
  },
  {
   "cell_type": "code",
   "execution_count": 1,
   "metadata": {},
   "outputs": [],
   "source": [
    "## For loading the pickle\n",
    "import pandas as pd\n",
    "## Numpy for the heatmap\n",
    "import numpy as np\n",
    "## Displaying the heatmap\n",
    "import matplotlib.pyplot as plt\n",
    "from scipy.stats import gaussian_kde"
   ]
  },
  {
   "cell_type": "markdown",
   "metadata": {},
   "source": [
    "# Data Spawn"
   ]
  },
  {
   "cell_type": "code",
   "execution_count": 314,
   "metadata": {},
   "outputs": [],
   "source": [
    "spawn_region = 100\n",
    "## Read the dataframe\n",
    "df = pd.read_pickle(\"../../data/ufficial/pickle/kills.pkl\")\\\n",
    "                    .dropna(how='any',axis=0)\n",
    "## Taking only the values we need\n",
    "data_us = df[((df.x_death > -spawn_region) \n",
    "              & (df.x_death < spawn_region)) \n",
    "              & ((df.z_death > -spawn_region) \n",
    "              & (df.z_death < spawn_region))]\n",
    "## Values we want\n",
    "#[[\"x_death\", \"z_death\"]]"
   ]
  },
  {
   "cell_type": "code",
   "execution_count": 3,
   "metadata": {},
   "outputs": [
    {
     "data": {
      "text/plain": [
       "Text(0, 0.5, 'z')"
      ]
     },
     "execution_count": 3,
     "metadata": {},
     "output_type": "execute_result"
    },
    {
     "data": {
      "image/png": "[encoded data removed]",
      "text/plain": [
       "<Figure size 432x288 with 1 Axes>"
      ]
     },
     "metadata": {
      "needs_background": "light"
     },
     "output_type": "display_data"
    }
   ],
   "source": [
    "data = np.vstack([data_us[\"x_death\"].values, data_us[\"z_death\"].values])\n",
    "kde = gaussian_kde(data)\n",
    "\n",
    "# evaluate on a regular grid\n",
    "xgrid = np.linspace(spawn_region, -spawn_region, 100)\n",
    "ygrid = np.linspace(spawn_region, -spawn_region, 100)\n",
    "Xgrid, Ygrid = np.meshgrid(xgrid, ygrid)\n",
    "Z = kde.evaluate(np.vstack([Xgrid.ravel(), Ygrid.ravel()]))\n",
    "\n",
    "# Plot the result as an image\n",
    "plt.imshow(Z.reshape(Xgrid.shape),\n",
    "           origin='lower',\n",
    "           extent=[-spawn_region, spawn_region, -spawn_region, spawn_region],\n",
    "           cmap=plt.cm.jet)\n",
    "## informations\n",
    "plt.title('Heatmap of death from -100 to 100')\n",
    "plt.xlabel('x')\n",
    "plt.ylabel('z')"
   ]
  },
  {
   "cell_type": "markdown",
   "metadata": {},
   "source": [
    "# Data World\n",
    "## Y Death"
   ]
  },
  {
   "cell_type": "code",
   "execution_count": 243,
   "metadata": {},
   "outputs": [
    {
     "name": "stdout",
     "output_type": "stream",
     "text": [
      "Y: 120.000000 Perc: 8.259 %\n",
      "Y: 63.000000 Perc: 7.814 %\n",
      "Y: 64.000000 Perc: 7.453 %\n",
      "Y: 121.000000 Perc: 3.201 %\n",
      "Y: 65.000000 Perc: 2.992 %\n",
      "Y: 67.000000 Perc: 2.712 %\n",
      "Y: 70.000000 Perc: 2.627 %\n",
      "Y: 68.000000 Perc: 2.558 %\n",
      "Y: 62.000000 Perc: 2.488 %\n",
      "Y: 71.000000 Perc: 2.385 %\n",
      "Y: 69.000000 Perc: 2.332 %\n",
      "Y: 66.000000 Perc: 2.068 %\n",
      "Y: 5.000000 Perc: 1.948 %\n",
      "Y: 4.000000 Perc: 1.897 %\n",
      "Y: 61.000000 Perc: 1.846 %\n",
      "Y: 72.000000 Perc: 1.77 %\n",
      "Y: 119.000000 Perc: 1.591 %\n",
      "Y: 73.000000 Perc: 1.287 %\n",
      "Y: 74.000000 Perc: 1.279 %\n",
      "Y: 256.000000 Perc: 1.228 %\n",
      "Y: 79.000000 Perc: 1.099 %\n",
      "Y: 59.000000 Perc: 1.089 %\n",
      "Y: 60.000000 Perc: 1.028 %\n",
      "Y: 3.000000 Perc: 0.973 %\n",
      "Y: 75.000000 Perc: 0.855 %\n",
      "Y: 115.000000 Perc: 0.848 %\n",
      "Y: 76.000000 Perc: 0.815 %\n",
      "Y: 80.000000 Perc: 0.762 %\n",
      "Y: 2.000000 Perc: 0.76 %\n",
      "Y: 78.000000 Perc: 0.709 %\n",
      "Y: 58.000000 Perc: 0.684 %\n",
      "Y: 81.000000 Perc: 0.656 %\n",
      "Y: 77.000000 Perc: 0.58 %\n",
      "Y: 56.000000 Perc: 0.532 %\n",
      "Y: 6.000000 Perc: 0.525 %\n",
      "Y: 118.000000 Perc: 0.519 %\n",
      "Y: 83.000000 Perc: 0.464 %\n",
      "Y: 84.000000 Perc: 0.464 %\n",
      "Y: 89.000000 Perc: 0.445 %\n",
      "Y: 117.000000 Perc: 0.437 %\n",
      "Y: 86.000000 Perc: 0.42 %\n",
      "Y: 88.000000 Perc: 0.409 %\n",
      "Y: 85.000000 Perc: 0.409 %\n",
      "Y: 96.000000 Perc: 0.397 %\n",
      "Y: 7.000000 Perc: 0.397 %\n",
      "Y: 54.000000 Perc: 0.38 %\n",
      "Y: 82.000000 Perc: 0.376 %\n",
      "Y: 93.000000 Perc: 0.371 %\n",
      "Y: 106.000000 Perc: 0.357 %\n",
      "Y: 87.000000 Perc: 0.35 %\n",
      "Y: 105.000000 Perc: 0.342 %\n",
      "Y: 53.000000 Perc: 0.336 %\n",
      "Y: 257.000000 Perc: 0.329 %\n",
      "Y: 125.000000 Perc: 0.329 %\n",
      "Y: 52.000000 Perc: 0.325 %\n",
      "Y: 91.000000 Perc: 0.312 %\n",
      "Y: 182.000000 Perc: 0.31 %\n",
      "Y: 122.000000 Perc: 0.31 %\n",
      "Y: 95.000000 Perc: 0.308 %\n",
      "Y: 57.000000 Perc: 0.302 %\n",
      "Y: 103.000000 Perc: 0.291 %\n",
      "Y: 11.000000 Perc: 0.285 %\n",
      "Y: 55.000000 Perc: 0.274 %\n",
      "Y: 108.000000 Perc: 0.272 %\n",
      "Y: 114.000000 Perc: 0.272 %\n",
      "Y: 97.000000 Perc: 0.272 %\n",
      "Y: 47.000000 Perc: 0.268 %\n",
      "Y: 116.000000 Perc: 0.266 %\n",
      "Y: 51.000000 Perc: 0.264 %\n",
      "Y: 100.000000 Perc: 0.255 %\n",
      "Y: 111.000000 Perc: 0.255 %\n",
      "Y: 45.000000 Perc: 0.253 %\n",
      "Y: 109.000000 Perc: 0.253 %\n",
      "Y: 112.000000 Perc: 0.251 %\n",
      "Y: 90.000000 Perc: 0.249 %\n",
      "Y: 15.000000 Perc: 0.245 %\n",
      "Y: 10.000000 Perc: 0.243 %\n",
      "Y: 124.000000 Perc: 0.241 %\n",
      "Y: 40.000000 Perc: 0.241 %\n",
      "Y: 107.000000 Perc: 0.222 %\n",
      "Y: 102.000000 Perc: 0.219 %\n",
      "Y: 99.000000 Perc: 0.217 %\n",
      "Y: 43.000000 Perc: 0.213 %\n",
      "Y: 50.000000 Perc: 0.211 %\n",
      "Y: 92.000000 Perc: 0.207 %\n",
      "Y: 26.000000 Perc: 0.207 %\n",
      "Y: 37.000000 Perc: 0.203 %\n",
      "Y: 113.000000 Perc: 0.2 %\n",
      "Y: 35.000000 Perc: 0.2 %\n",
      "Y: 254.000000 Perc: 0.2 %\n",
      "Y: 8.000000 Perc: 0.196 %\n",
      "Y: 44.000000 Perc: 0.196 %\n",
      "Y: 33.000000 Perc: 0.196 %\n",
      "Y: 38.000000 Perc: 0.192 %\n",
      "Y: 22.000000 Perc: 0.19 %\n",
      "Y: 253.000000 Perc: 0.188 %\n",
      "Y: 49.000000 Perc: 0.184 %\n",
      "Y: 29.000000 Perc: 0.177 %\n",
      "Y: 14.000000 Perc: 0.175 %\n",
      "Y: 46.000000 Perc: 0.173 %\n",
      "Y: 110.000000 Perc: 0.173 %\n",
      "Y: 137.000000 Perc: 0.171 %\n",
      "Y: 19.000000 Perc: 0.165 %\n",
      "Y: 23.000000 Perc: 0.162 %\n",
      "Y: 36.000000 Perc: 0.16 %\n",
      "Y: 101.000000 Perc: 0.156 %\n",
      "Y: 98.000000 Perc: 0.154 %\n",
      "Y: 21.000000 Perc: 0.15 %\n",
      "Y: 16.000000 Perc: 0.148 %\n",
      "Y: 94.000000 Perc: 0.143 %\n",
      "Y: 48.000000 Perc: 0.141 %\n",
      "Y: 154.000000 Perc: 0.135 %\n",
      "Y: 27.000000 Perc: 0.135 %\n",
      "Y: 42.000000 Perc: 0.131 %\n",
      "Y: 1.000000 Perc: 0.131 %\n",
      "Y: 24.000000 Perc: 0.131 %\n",
      "Y: 123.000000 Perc: 0.131 %\n",
      "Y: 9.000000 Perc: 0.129 %\n",
      "Y: 104.000000 Perc: 0.125 %\n",
      "Y: 39.000000 Perc: 0.12 %\n",
      "Y: 30.000000 Perc: 0.12 %\n",
      "Y: 13.000000 Perc: 0.116 %\n",
      "Y: 18.000000 Perc: 0.112 %\n",
      "Y: 145.000000 Perc: 0.112 %\n",
      "Y: -11.000000 Perc: 0.112 %\n",
      "Y: 20.000000 Perc: 0.112 %\n",
      "Y: 150.000000 Perc: 0.108 %\n",
      "Y: 32.000000 Perc: 0.108 %\n",
      "Y: 12.000000 Perc: 0.103 %\n",
      "Y: 255.000000 Perc: 0.101 %\n",
      "Y: 41.000000 Perc: 0.095 %\n",
      "Y: 34.000000 Perc: 0.093 %\n",
      "Y: 248.000000 Perc: 0.087 %\n",
      "Y: 140.000000 Perc: 0.084 %\n",
      "Y: 201.000000 Perc: 0.082 %\n",
      "Y: 138.000000 Perc: 0.082 %\n",
      "Y: 28.000000 Perc: 0.08 %\n",
      "Y: 131.000000 Perc: 0.078 %\n",
      "Y: 247.000000 Perc: 0.078 %\n",
      "Y: 197.000000 Perc: 0.078 %\n",
      "Y: 129.000000 Perc: 0.078 %\n",
      "Y: 187.000000 Perc: 0.078 %\n",
      "Y: 31.000000 Perc: 0.076 %\n",
      "Y: 189.000000 Perc: 0.076 %\n",
      "Y: 162.000000 Perc: 0.074 %\n",
      "Y: 17.000000 Perc: 0.074 %\n",
      "Y: 251.000000 Perc: 0.074 %\n",
      "Y: 250.000000 Perc: 0.074 %\n",
      "Y: 136.000000 Perc: 0.072 %\n",
      "Y: 135.000000 Perc: 0.072 %\n",
      "Y: 139.000000 Perc: 0.072 %\n",
      "Y: 168.000000 Perc: 0.072 %\n",
      "Y: 203.000000 Perc: 0.07 %\n",
      "Y: 164.000000 Perc: 0.068 %\n",
      "Y: 25.000000 Perc: 0.068 %\n",
      "Y: 235.000000 Perc: 0.065 %\n",
      "Y: 157.000000 Perc: 0.063 %\n",
      "Y: 132.000000 Perc: 0.063 %\n",
      "Y: 202.000000 Perc: 0.059 %\n",
      "Y: 127.000000 Perc: 0.059 %\n",
      "Y: 198.000000 Perc: 0.059 %\n",
      "Y: 174.000000 Perc: 0.057 %\n",
      "Y: 177.000000 Perc: 0.057 %\n",
      "Y: 151.000000 Perc: 0.057 %\n",
      "Y: 233.000000 Perc: 0.057 %\n",
      "Y: 148.000000 Perc: 0.055 %\n",
      "Y: 155.000000 Perc: 0.055 %\n",
      "Y: 128.000000 Perc: 0.053 %\n",
      "Y: 143.000000 Perc: 0.053 %\n",
      "Y: 190.000000 Perc: 0.053 %\n",
      "Y: 161.000000 Perc: 0.051 %\n",
      "Y: 141.000000 Perc: 0.051 %\n",
      "Y: 163.000000 Perc: 0.051 %\n",
      "Y: 152.000000 Perc: 0.049 %\n",
      "Y: 176.000000 Perc: 0.049 %\n",
      "Y: 178.000000 Perc: 0.049 %\n",
      "Y: 245.000000 Perc: 0.049 %\n",
      "Y: 242.000000 Perc: 0.046 %\n",
      "Y: 146.000000 Perc: 0.046 %\n",
      "Y: 252.000000 Perc: 0.046 %\n",
      "Y: 246.000000 Perc: 0.046 %\n",
      "Y: 149.000000 Perc: 0.044 %\n",
      "Y: 153.000000 Perc: 0.044 %\n",
      "Y: 215.000000 Perc: 0.042 %\n",
      "Y: 179.000000 Perc: 0.042 %\n",
      "Y: 222.000000 Perc: 0.042 %\n",
      "Y: 130.000000 Perc: 0.042 %\n",
      "Y: 229.000000 Perc: 0.04 %\n",
      "Y: 167.000000 Perc: 0.04 %\n",
      "Y: 238.000000 Perc: 0.04 %\n",
      "Y: 206.000000 Perc: 0.04 %\n",
      "Y: 268.000000 Perc: 0.04 %\n",
      "Y: 225.000000 Perc: 0.038 %\n",
      "Y: 262.000000 Perc: 0.038 %\n",
      "Y: 204.000000 Perc: 0.038 %\n",
      "Y: 218.000000 Perc: 0.038 %\n",
      "Y: 158.000000 Perc: 0.038 %\n",
      "Y: 224.000000 Perc: 0.038 %\n",
      "Y: 144.000000 Perc: 0.036 %\n",
      "Y: 165.000000 Perc: 0.036 %\n",
      "Y: 126.000000 Perc: 0.034 %\n",
      "Y: 195.000000 Perc: 0.034 %\n",
      "Y: 192.000000 Perc: 0.034 %\n",
      "Y: 186.000000 Perc: 0.032 %\n",
      "Y: 267.000000 Perc: 0.032 %\n",
      "Y: 199.000000 Perc: 0.032 %\n",
      "Y: 169.000000 Perc: 0.032 %\n",
      "Y: 142.000000 Perc: 0.032 %\n",
      "Y: 237.000000 Perc: 0.032 %\n",
      "Y: 200.000000 Perc: 0.032 %\n",
      "Y: 211.000000 Perc: 0.03 %\n",
      "Y: 180.000000 Perc: 0.03 %\n",
      "Y: 249.000000 Perc: 0.03 %\n",
      "Y: 261.000000 Perc: 0.03 %\n",
      "Y: 205.000000 Perc: 0.027 %\n",
      "Y: 166.000000 Perc: 0.027 %\n",
      "Y: 226.000000 Perc: 0.027 %\n",
      "Y: 170.000000 Perc: 0.027 %\n",
      "Y: 230.000000 Perc: 0.027 %\n",
      "Y: 188.000000 Perc: 0.025 %\n",
      "Y: 220.000000 Perc: 0.025 %\n",
      "Y: 207.000000 Perc: 0.025 %\n",
      "Y: 193.000000 Perc: 0.025 %\n",
      "Y: 184.000000 Perc: 0.025 %\n",
      "Y: 217.000000 Perc: 0.025 %\n",
      "Y: 196.000000 Perc: 0.025 %\n",
      "Y: 172.000000 Perc: 0.025 %\n",
      "Y: 244.000000 Perc: 0.025 %\n",
      "Y: 194.000000 Perc: 0.023 %\n",
      "Y: 133.000000 Perc: 0.023 %\n",
      "Y: 159.000000 Perc: 0.023 %\n",
      "Y: 191.000000 Perc: 0.023 %\n",
      "Y: 270.000000 Perc: 0.023 %\n",
      "Y: 232.000000 Perc: 0.021 %\n",
      "Y: 185.000000 Perc: 0.021 %\n",
      "Y: 263.000000 Perc: 0.021 %\n",
      "Y: 173.000000 Perc: 0.021 %\n",
      "Y: 134.000000 Perc: 0.021 %\n",
      "Y: 175.000000 Perc: 0.021 %\n",
      "Y: 259.000000 Perc: 0.021 %\n",
      "Y: 147.000000 Perc: 0.021 %\n",
      "Y: -7.000000 Perc: 0.019 %\n",
      "Y: 223.000000 Perc: 0.019 %\n",
      "Y: 265.000000 Perc: 0.019 %\n",
      "Y: -79.000000 Perc: 0.019 %\n",
      "Y: 183.000000 Perc: 0.019 %\n",
      "Y: 243.000000 Perc: 0.019 %\n",
      "Y: 181.000000 Perc: 0.019 %\n",
      "Y: 171.000000 Perc: 0.019 %\n",
      "Y: -176.000000 Perc: 0.019 %\n",
      "Y: 214.000000 Perc: 0.019 %\n",
      "Y: 264.000000 Perc: 0.017 %\n",
      "Y: 266.000000 Perc: 0.017 %\n",
      "Y: -3.000000 Perc: 0.017 %\n",
      "Y: 216.000000 Perc: 0.017 %\n",
      "Y: 228.000000 Perc: 0.015 %\n",
      "Y: 234.000000 Perc: 0.015 %\n",
      "Y: 279.000000 Perc: 0.015 %\n",
      "Y: 285.000000 Perc: 0.015 %\n",
      "Y: 276.000000 Perc: 0.015 %\n",
      "Y: 209.000000 Perc: 0.015 %\n",
      "Y: 210.000000 Perc: 0.015 %\n",
      "Y: 227.000000 Perc: 0.015 %\n",
      "Y: 260.000000 Perc: 0.015 %\n",
      "Y: 236.000000 Perc: 0.013 %\n",
      "Y: 239.000000 Perc: 0.013 %\n",
      "Y: 219.000000 Perc: 0.013 %\n",
      "Y: 258.000000 Perc: 0.013 %\n",
      "Y: 156.000000 Perc: 0.013 %\n",
      "Y: 212.000000 Perc: 0.011 %\n",
      "Y: -95.000000 Perc: 0.011 %\n",
      "Y: 160.000000 Perc: 0.011 %\n",
      "Y: 221.000000 Perc: 0.011 %\n",
      "Y: 213.000000 Perc: 0.011 %\n",
      "Y: 241.000000 Perc: 0.011 %\n",
      "Y: 231.000000 Perc: 0.011 %\n",
      "Y: 273.000000 Perc: 0.008 %\n",
      "Y: 208.000000 Perc: 0.008 %\n",
      "Y: 283.000000 Perc: 0.008 %\n",
      "Y: -6.000000 Perc: 0.008 %\n",
      "Y: 298.000000 Perc: 0.006 %\n",
      "Y: 287.000000 Perc: 0.006 %\n",
      "Y: 278.000000 Perc: 0.006 %\n",
      "Y: 282.000000 Perc: 0.004 %\n",
      "Y: -90.000000 Perc: 0.004 %\n",
      "Y: 291.000000 Perc: 0.004 %\n",
      "Y: -129.000000 Perc: 0.004 %\n",
      "Y: 274.000000 Perc: 0.004 %\n",
      "Y: 271.000000 Perc: 0.004 %\n",
      "Y: -112.000000 Perc: 0.004 %\n",
      "Y: 269.000000 Perc: 0.004 %\n",
      "Y: -107.000000 Perc: 0.004 %\n",
      "Y: -4.000000 Perc: 0.004 %\n",
      "Y: -1.000000 Perc: 0.002 %\n",
      "Y: -201.000000 Perc: 0.002 %\n",
      "Y: 289.000000 Perc: 0.002 %\n",
      "Y: 277.000000 Perc: 0.002 %\n",
      "Y: 299.000000 Perc: 0.002 %\n",
      "Y: -955.000000 Perc: 0.002 %\n",
      "Y: -98.000000 Perc: 0.002 %\n",
      "Y: 272.000000 Perc: 0.002 %\n",
      "Y: -385.000000 Perc: 0.002 %\n",
      "Y: 275.000000 Perc: 0.002 %\n",
      "Y: 240.000000 Perc: 0.002 %\n",
      "Y: -150.000000 Perc: 0.002 %\n",
      "Y: 288.000000 Perc: 0.002 %\n",
      "Y: -5.000000 Perc: 0.002 %\n",
      "Y: 297.000000 Perc: 0.002 %\n",
      "Y: 292.000000 Perc: 0.002 %\n",
      "Y: 296.000000 Perc: 0.002 %\n"
     ]
    }
   ],
   "source": [
    "## Print it \n",
    "for value, perc in (df.y_death.value_counts(normalize=True) * 100).items():\n",
    "    print(\"Y: %f Perc: %s %%\" % (value, round(perc, 3)))"
   ]
  },
  {
   "cell_type": "markdown",
   "metadata": {},
   "source": [
    "## Top 5 y"
   ]
  },
  {
   "cell_type": "code",
   "execution_count": 319,
   "metadata": {},
   "outputs": [],
   "source": [
    "## Algo for creating the graph\n",
    "def createGraph(values):\n",
    "    ## Take first 5 y\n",
    "    top5 = (values.value_counts(normalize=True) * 100)[:5].round(3)\n",
    "    ## Use this style for the plot\n",
    "    plt.style.use(\"ggplot\")\n",
    "    ## Incr the size\n",
    "    plt.figure(figsize=(15,7))\n",
    "    ## Put it on the graph\n",
    "    plt.barh(top5.index.astype(str), top5.values)\n",
    "    ## Order it\n",
    "    plt.gca().invert_yaxis()\n",
    "\n",
    "    ## Add %\n",
    "    for index, value in enumerate(top5):\n",
    "        plt.text(value, index, \" %\" + str(value) )\n",
    "\n",
    "    ## Show\n",
    "    plt.show()"
   ]
  },
  {
   "cell_type": "code",
   "execution_count": 320,
   "metadata": {},
   "outputs": [
    {
     "data": {
      "image/png": "[encoded data removed]",
      "text/plain": [
       "<Figure size 1080x504 with 1 Axes>"
      ]
     },
     "metadata": {},
     "output_type": "display_data"
    }
   ],
   "source": [
    "## Take first 5 y\n",
    "createGraph(df.y_death)"
   ]
  },
  {
   "cell_type": "markdown",
   "metadata": {},
   "source": [
    "## Lowest and Highest Y, X and Z"
   ]
  },
  {
   "cell_type": "code",
   "execution_count": 245,
   "metadata": {},
   "outputs": [
    {
     "name": "stdout",
     "output_type": "stream",
     "text": [
      "X: Min: -1436979.000000 Max: 1378589.000000\n",
      "Y: Min: -955.000000 Max: 299.000000\n",
      "Z: Min: -15015074.000000 Max: 1439409.000000\n"
     ]
    }
   ],
   "source": [
    "print(\"X: Min: %f Max: %f\\n\" \\\n",
    "      \"Y: Min: %f Max: %f\\n\" \\\n",
    "      \"Z: Min: %f Max: %f\" % \n",
    "      (df.x_death.min(), df.x_death.max(),\n",
    "       df.y_death.min(), df.y_death.max(),\n",
    "       df.z_death.min(), df.z_death.max()))\n"
   ]
  },
  {
   "cell_type": "markdown",
   "metadata": {},
   "source": [
    "## Most kills + Death"
   ]
  },
  {
   "cell_type": "code",
   "execution_count": 316,
   "metadata": {},
   "outputs": [],
   "source": [
    "total_kills = len(df[\"killer_uuid\"])"
   ]
  },
  {
   "cell_type": "code",
   "execution_count": 332,
   "metadata": {},
   "outputs": [],
   "source": [
    "killers = df[\"killer_uuid\"].value_counts(normalize=True)\n",
    "victims = df[\"victim_uuid\"].value_counts(normalize=True)\n",
    "items = df[\"weapon\"].value_counts(normalize=True)"
   ]
  },
  {
   "cell_type": "code",
   "execution_count": 336,
   "metadata": {},
   "outputs": [
    {
     "data": {
      "text/plain": [
       "d7d7984f-fbf1-487c-86d9-c35734b2b938    0.042986\n",
       "d1fc6d70-5fcc-4bd1-818e-fde12ebecf8f    0.029818\n",
       "f6fabfae-fc2b-419d-9131-aa6a5d43e830    0.023213\n",
       "905a355a-2cf0-47c6-8f13-6507c4827c8b    0.018021\n",
       "02519c54-002e-4818-8bbd-5945be669f37    0.016186\n",
       "                                          ...   \n",
       "060d5321-1631-4196-8d33-51329adc6e5e    0.000021\n",
       "83f4a369-86ae-4331-8d88-32a4a596563d    0.000021\n",
       "57f6d422-4ed4-4fb9-b9e7-48609f66c3d7    0.000021\n",
       "7926a6bb-a5c9-47c7-a88d-ce3b29c2e4eb    0.000021\n",
       "b65be238-307e-410c-870c-7bf6df9f2f8a    0.000021\n",
       "Name: killer_uuid, Length: 6174, dtype: float64"
      ]
     },
     "execution_count": 336,
     "metadata": {},
     "output_type": "execute_result"
    }
   ],
   "source": [
    "killers"
   ]
  },
  {
   "cell_type": "code",
   "execution_count": 337,
   "metadata": {},
   "outputs": [
    {
     "data": {
      "image/png": "[encoded data removed]",
      "text/plain": [
       "<Figure size 1080x504 with 1 Axes>"
      ]
     },
     "metadata": {},
     "output_type": "display_data"
    }
   ],
   "source": [
    "## Take first 5 y\n",
    "top5 = (killers * 100)[:5].round(3)\n",
    "## Use this style for the plot\n",
    "plt.style.use(\"ggplot\")\n",
    "## Incr the size\n",
    "plt.figure(figsize=(15,7))\n",
    "## Put it on the graph\n",
    "plt.barh(top5.index.astype(str), top5.values)\n",
    "## Order it\n",
    "plt.gca().invert_yaxis()\n",
    "\n",
    "## Add %\n",
    "for index, value in enumerate(top5):\n",
    "    plt.text(value, index, \" %\" + str(value) )\n",
    "\n",
    "## Show\n",
    "plt.show()"
   ]
  },
  {
   "cell_type": "code",
   "execution_count": null,
   "metadata": {},
   "outputs": [],
   "source": []
  }
 ],
 "metadata": {
  "kernelspec": {
   "display_name": "Python 3",
   "language": "python",
   "name": "python3"
  },
  "language_info": {
   "codemirror_mode": {
    "name": "ipython",
    "version": 3
   },
   "file_extension": ".py",
   "mimetype": "text/x-python",
   "name": "python",
   "nbconvert_exporter": "python",
   "pygments_lexer": "ipython3",
   "version": "3.7.6"
  }
 },
 "nbformat": 4,
 "nbformat_minor": 4
}
