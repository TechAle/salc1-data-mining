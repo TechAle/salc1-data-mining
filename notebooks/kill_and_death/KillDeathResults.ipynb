{
 "cells": [
  {
   "cell_type": "markdown",
   "metadata": {},
   "source": [
    "# Library"
   ]
  },
  {
   "cell_type": "code",
   "execution_count": 1,
   "metadata": {},
   "outputs": [],
   "source": [
    "## For loading the pickle\n",
    "import pandas as pd\n",
    "## Numpy for the heatmap\n",
    "import numpy as np\n",
    "## Displaying the heatmap\n",
    "import matplotlib.pyplot as plt\n",
    "from scipy.stats import gaussian_kde\n",
    "## Clear Output\n",
    "from IPython.display import clear_output"
   ]
  },
  {
   "cell_type": "markdown",
   "metadata": {},
   "source": [
    "# Data Spawn"
   ]
  },
  {
   "cell_type": "code",
   "execution_count": 2,
   "metadata": {},
   "outputs": [],
   "source": [
    "spawn_region = 100\n",
    "## Read the dataframe\n",
    "df = pd.read_pickle(\"../../data/ufficial/pickle/kills.pkl\").\\\n",
    "        rename(columns={\n",
    "            \"killer_name\" : \"Killer\",\n",
    "            \"victim_name\" : \"Victim\",\n",
    "            \"weapon\" : \"Items\"\n",
    "        })\n",
    "dfNoNaN = df.dropna(how='any',axis=0)\n",
    "\n",
    "## Values we want\n",
    "#[[\"x_death\", \"z_death\"]]"
   ]
  },
  {
   "cell_type": "code",
   "execution_count": 20,
   "metadata": {},
   "outputs": [],
   "source": [
    "## Taking only the values we need\n",
    "data_us = dfNoNaN[((dfNoNaN.x_death > -spawn_region) \n",
    "              & (dfNoNaN.x_death < spawn_region)) \n",
    "              & ((dfNoNaN.z_death > -spawn_region) \n",
    "              & (dfNoNaN.z_death < spawn_region))]\n",
    "## Create map\n",
    "data = np.vstack([data_us[\"x_death\"].values, data_us[\"z_death\"].values])\n",
    "kde = gaussian_kde(data)\n",
    "\n",
    "# evaluate on a regular grid\n",
    "xgrid = np.linspace(spawn_region, -spawn_region, 100)\n",
    "ygrid = np.linspace(spawn_region, -spawn_region, 100)\n",
    "Xgrid, Ygrid = np.meshgrid(xgrid, ygrid)\n",
    "Z = kde.evaluate(np.vstack([Xgrid.ravel(), Ygrid.ravel()]))\n",
    "\n",
    "# Plot the result as an image\n",
    "plt.imshow(Z.reshape(Xgrid.shape),\n",
    "           origin='lower',\n",
    "           extent=[-spawn_region, spawn_region, -spawn_region, spawn_region],\n",
    "           cmap=plt.cm.jet)\n",
    "## informations\n",
    "plt.title('Heatmap of death from -100 to 100')\n",
    "plt.xlabel('x')\n",
    "plt.ylabel('z')\n",
    "plt.show()\n",
    "clear_output()"
   ]
  },
  {
   "cell_type": "markdown",
   "metadata": {},
   "source": [
    "# Data World\n",
    "## Y Death"
   ]
  },
  {
   "cell_type": "code",
   "execution_count": 4,
   "metadata": {},
   "outputs": [],
   "source": [
    "yClass = pd.DataFrame({\n",
    "    \"Y\": [],\n",
    "    \"Perc\": []\n",
    "})\n",
    "## Print it \n",
    "for value, perc in (dfNoNaN.y_death.value_counts(normalize=True) * 100).items():\n",
    "    print(\"Y: %f Perc: %s %%\" % (value, round(perc, 3)))\n",
    "    yClass = yClass.append({\"Perc\": perc, \"Y\": value}, ignore_index=True)\n",
    "clear_output()"
   ]
  },
  {
   "cell_type": "code",
   "execution_count": 5,
   "metadata": {},
   "outputs": [],
   "source": [
    "yClass = yClass.set_index(\"Y\")\n",
    "## Export this\n",
    "yClass.to_csv(\"../../results/kills/yClass.csv\")"
   ]
  },
  {
   "cell_type": "markdown",
   "metadata": {},
   "source": [
    "## Top 5 y"
   ]
  },
  {
   "cell_type": "code",
   "execution_count": 3,
   "metadata": {},
   "outputs": [],
   "source": [
    "## Algo for creating the graph\n",
    "def createGraph(top5):\n",
    "    ## Use this style for the plot\n",
    "    plt.style.use(\"ggplot\")\n",
    "    ## Incr the size\n",
    "    plt.figure(figsize=(15,7))\n",
    "    ## Put it on the graph\n",
    "    plt.barh(top5.index.astype(str), top5.values)\n",
    "    ## Order it\n",
    "    plt.gca().invert_yaxis()\n",
    "\n",
    "    ## Add %\n",
    "    for index, value in enumerate(top5):\n",
    "        plt.text(value, index, \" %\" + str(value) )\n",
    "\n",
    "    ## Show\n",
    "    plt.show()"
   ]
  },
  {
   "cell_type": "code",
   "execution_count": 7,
   "metadata": {},
   "outputs": [],
   "source": [
    "def createFiles(want, registredKills):\n",
    "    genClass = pd.DataFrame({\n",
    "        want: [],\n",
    "        \"Num\": [],\n",
    "        \"Perc\": []\n",
    "    })\n",
    "    rif = df[want].value_counts()\n",
    "    ## Print killers \n",
    "    for value, num in rif.items():\n",
    "        print(want + \": %s Num: %d Perc: %f %%\" % (value, num, num / registredKills * 100))\n",
    "        genClass = genClass.append({\"Num\": num, \"Perc\": num / registredKills * 100, \"want\": value}, ignore_index=True)\n",
    "    clear_output()\n",
    "    kClass = genClass.set_index(want)\n",
    "    ## Export this\n",
    "    kClass.to_csv(\"../../results/kills/%sClass.csv\" % (want))\n",
    "    ## Graph first 5 killers\n",
    "    createGraph(((rif / registredKills * 100)[:5].round(3))[:5].round(3))"
   ]
  },
  {
   "cell_type": "code",
   "execution_count": 5,
   "metadata": {},
   "outputs": [],
   "source": [
    "## Take first 5 y\n",
    "createGraph((dfNoNaN.y_death.value_counts(normalize=True) * 100)[:5].round(3))\n",
    "clear_output()"
   ]
  },
  {
   "cell_type": "markdown",
   "metadata": {},
   "source": [
    "## Lowest and Highest Y, X and Z"
   ]
  },
  {
   "cell_type": "code",
   "execution_count": 8,
   "metadata": {},
   "outputs": [],
   "source": [
    "print(\"X: Min: %f Max: %f\\n\" \\\n",
    "      \"Y: Min: %f Max: %f\\n\" \\\n",
    "      \"Z: Min: %f Max: %f\" % \n",
    "      (df.x_death.min(), df.x_death.max(),\n",
    "       df.y_death.min(), df.y_death.max(),\n",
    "       df.z_death.min(), df.z_death.max()))\n",
    "clear_output()"
   ]
  },
  {
   "cell_type": "markdown",
   "metadata": {},
   "source": [
    "## Most kills + Death"
   ]
  },
  {
   "cell_type": "markdown",
   "metadata": {},
   "source": [
    "### N^ registred kills"
   ]
  },
  {
   "cell_type": "code",
   "execution_count": 10,
   "metadata": {},
   "outputs": [
    {
     "name": "stdout",
     "output_type": "stream",
     "text": [
      "55511\n"
     ]
    }
   ],
   "source": [
    "registredKills = df[\"Killer\"].value_counts().sum()\n",
    "print(registredKills)"
   ]
  },
  {
   "cell_type": "markdown",
   "metadata": {},
   "source": [
    "### Killer Data"
   ]
  },
  {
   "cell_type": "code",
   "execution_count": 12,
   "metadata": {},
   "outputs": [
    {
     "data": {
      "image/png": "[encoded data removed]",
      "text/plain": [
       "<Figure size 1080x504 with 1 Axes>"
      ]
     },
     "metadata": {},
     "output_type": "display_data"
    }
   ],
   "source": [
    "createFiles(\"Killer\", registredKills)"
   ]
  },
  {
   "cell_type": "markdown",
   "metadata": {},
   "source": [
    "### Victim Data"
   ]
  },
  {
   "cell_type": "code",
   "execution_count": 13,
   "metadata": {},
   "outputs": [
    {
     "data": {
      "image/png": "[encoded data removed]",
      "text/plain": [
       "<Figure size 1080x504 with 1 Axes>"
      ]
     },
     "metadata": {},
     "output_type": "display_data"
    }
   ],
   "source": [
    "createFiles(\"Victim\", registredKills)"
   ]
  },
  {
   "cell_type": "markdown",
   "metadata": {},
   "source": [
    "### Item"
   ]
  },
  {
   "cell_type": "code",
   "execution_count": 18,
   "metadata": {},
   "outputs": [
    {
     "data": {
      "image/png": "[encoded data removed]",
      "text/plain": [
       "<Figure size 1080x504 with 1 Axes>"
      ]
     },
     "metadata": {},
     "output_type": "display_data"
    }
   ],
   "source": [
    "createFiles(\"Items\", registredKills)"
   ]
  },
  {
   "cell_type": "markdown",
   "metadata": {},
   "source": [
    "## Who killed the most at spawn"
   ]
  },
  {
   "cell_type": "code",
   "execution_count": 21,
   "metadata": {},
   "outputs": [],
   "source": [
    "## We can use what we used before, so we can already start with graph\n",
    "spawnKiller = data_us[\"Killer\"].value_counts()\n",
    "sClass = pd.DataFrame({\n",
    "    \"Killer\": [],\n",
    "    \"Num\": [],\n",
    "    \"Perc\": []\n",
    "})\n",
    "## Print killers \n",
    "for value, num in spawnKiller.items():\n",
    "    print(\"Killer: %s Num: %d Perc: %f %%\" % (value, num, num / registredKills * 100))\n",
    "    sClass = sClass.append({\"Num\": num, \"Perc\": num / registredKills * 100, \"Killer\": value}, ignore_index=True)\n",
    "clear_output()"
   ]
  },
  {
   "cell_type": "code",
   "execution_count": 22,
   "metadata": {},
   "outputs": [],
   "source": [
    "#sClass = sClass.set_index(\"Killer\")\n",
    "## Export this\n",
    "sClass.to_csv(\"../../results/kills/spawnClass.csv\")"
   ]
  },
  {
   "cell_type": "code",
   "execution_count": 23,
   "metadata": {},
   "outputs": [],
   "source": [
    "## Graph 5 spawnKiller\n",
    "createGraph(((spawnKiller / spawnKiller.sum() * 100)[:5].round(3))[:5].round(3))\n",
    "clear_output()"
   ]
  },
  {
   "cell_type": "code",
   "execution_count": null,
   "metadata": {},
   "outputs": [],
   "source": []
  }
 ],
 "metadata": {
  "kernelspec": {
   "display_name": "Python 3",
   "language": "python",
   "name": "python3"
  },
  "language_info": {
   "codemirror_mode": {
    "name": "ipython",
    "version": 3
   },
   "file_extension": ".py",
   "mimetype": "text/x-python",
   "name": "python",
   "nbconvert_exporter": "python",
   "pygments_lexer": "ipython3",
   "version": "3.7.6"
  }
 },
 "nbformat": 4,
 "nbformat_minor": 4
}
