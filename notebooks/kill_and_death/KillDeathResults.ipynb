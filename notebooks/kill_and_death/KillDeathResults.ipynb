{
 "cells": [
  {
   "cell_type": "markdown",
   "metadata": {},
   "source": [
    "# Library"
   ]
  },
  {
   "cell_type": "code",
   "execution_count": 82,
   "metadata": {},
   "outputs": [],
   "source": [
    "## For loading the pickle\n",
    "import pandas as pd\n",
    "## Numpy for the heatmap\n",
    "import numpy as np\n",
    "## Displaying the heatmap\n",
    "import matplotlib.pyplot as plt\n",
    "from scipy.stats import gaussian_kde\n",
    "## Clear Output\n",
    "from IPython.display import clear_output"
   ]
  },
  {
   "cell_type": "markdown",
   "metadata": {},
   "source": [
    "# Data Spawn"
   ]
  },
  {
   "cell_type": "code",
   "execution_count": 83,
   "metadata": {},
   "outputs": [],
   "source": [
    "spawn_region = 100\n",
    "## Read the dataframe\n",
    "df = pd.read_pickle(\"../../data/ufficial/pickle/kills.pkl\")\\\n",
    "                    .dropna(how='any',axis=0)\n",
    "## Taking only the values we need\n",
    "data_us = df[((df.x_death > -spawn_region) \n",
    "              & (df.x_death < spawn_region)) \n",
    "              & ((df.z_death > -spawn_region) \n",
    "              & (df.z_death < spawn_region))]\n",
    "## Values we want\n",
    "#[[\"x_death\", \"z_death\"]]"
   ]
  },
  {
   "cell_type": "code",
   "execution_count": 84,
   "metadata": {},
   "outputs": [
    {
     "data": {
      "text/plain": [
       "Text(0, 0.5, 'z')"
      ]
     },
     "execution_count": 84,
     "metadata": {},
     "output_type": "execute_result"
    },
    {
     "data": {
      "image/png": "[encoded data removed]",
      "text/plain": [
       "<Figure size 432x288 with 1 Axes>"
      ]
     },
     "metadata": {},
     "output_type": "display_data"
    }
   ],
   "source": [
    "data = np.vstack([data_us[\"x_death\"].values, data_us[\"z_death\"].values])\n",
    "kde = gaussian_kde(data)\n",
    "\n",
    "# evaluate on a regular grid\n",
    "xgrid = np.linspace(spawn_region, -spawn_region, 100)\n",
    "ygrid = np.linspace(spawn_region, -spawn_region, 100)\n",
    "Xgrid, Ygrid = np.meshgrid(xgrid, ygrid)\n",
    "Z = kde.evaluate(np.vstack([Xgrid.ravel(), Ygrid.ravel()]))\n",
    "\n",
    "# Plot the result as an image\n",
    "plt.imshow(Z.reshape(Xgrid.shape),\n",
    "           origin='lower',\n",
    "           extent=[-spawn_region, spawn_region, -spawn_region, spawn_region],\n",
    "           cmap=plt.cm.jet)\n",
    "## informations\n",
    "plt.title('Heatmap of death from -100 to 100')\n",
    "plt.xlabel('x')\n",
    "plt.ylabel('z')"
   ]
  },
  {
   "cell_type": "markdown",
   "metadata": {},
   "source": [
    "# Data World\n",
    "## Y Death"
   ]
  },
  {
   "cell_type": "code",
   "execution_count": 85,
   "metadata": {},
   "outputs": [],
   "source": [
    "yClass = pd.DataFrame({\n",
    "    \"Y\": [],\n",
    "    \"Perc\": []\n",
    "})\n",
    "## Print it \n",
    "for value, perc in (df.y_death.value_counts(normalize=True) * 100).items():\n",
    "    print(\"Y: %f Perc: %s %%\" % (value, round(perc, 3)))\n",
    "    yClass = yClass.append({\"Perc\": perc, \"Y\": value}, ignore_index=True)\n",
    "clear_output()"
   ]
  },
  {
   "cell_type": "code",
   "execution_count": 86,
   "metadata": {},
   "outputs": [],
   "source": [
    "yClass = yClass.set_index(\"Y\")\n",
    "## Export this\n",
    "yClass.to_csv(\"../../results/kills/yClass.csv\")"
   ]
  },
  {
   "cell_type": "markdown",
   "metadata": {},
   "source": [
    "## Top 5 y"
   ]
  },
  {
   "cell_type": "code",
   "execution_count": 87,
   "metadata": {},
   "outputs": [],
   "source": [
    "## Algo for creating the graph\n",
    "def createGraph(top5):\n",
    "    ## Use this style for the plot\n",
    "    plt.style.use(\"ggplot\")\n",
    "    ## Incr the size\n",
    "    plt.figure(figsize=(15,7))\n",
    "    ## Put it on the graph\n",
    "    plt.barh(top5.index.astype(str), top5.values)\n",
    "    ## Order it\n",
    "    plt.gca().invert_yaxis()\n",
    "\n",
    "    ## Add %\n",
    "    for index, value in enumerate(top5):\n",
    "        plt.text(value, index, \" %\" + str(value) )\n",
    "\n",
    "    ## Show\n",
    "    plt.show()"
   ]
  },
  {
   "cell_type": "code",
   "execution_count": 88,
   "metadata": {},
   "outputs": [],
   "source": [
    "## Take first 5 y\n",
    "createGraph((df.y_death.value_counts(normalize=True) * 100)[:5].round(3))\n",
    "clear_output()"
   ]
  },
  {
   "cell_type": "markdown",
   "metadata": {},
   "source": [
    "## Lowest and Highest Y, X and Z"
   ]
  },
  {
   "cell_type": "code",
   "execution_count": 89,
   "metadata": {},
   "outputs": [],
   "source": [
    "print(\"X: Min: %f Max: %f\\n\" \\\n",
    "      \"Y: Min: %f Max: %f\\n\" \\\n",
    "      \"Z: Min: %f Max: %f\" % \n",
    "      (df.x_death.min(), df.x_death.max(),\n",
    "       df.y_death.min(), df.y_death.max(),\n",
    "       df.z_death.min(), df.z_death.max()))\n",
    "clear_output()"
   ]
  },
  {
   "cell_type": "markdown",
   "metadata": {},
   "source": [
    "## Most kills + Death"
   ]
  },
  {
   "cell_type": "markdown",
   "metadata": {},
   "source": [
    "### Get Data"
   ]
  },
  {
   "cell_type": "code",
   "execution_count": 90,
   "metadata": {},
   "outputs": [],
   "source": [
    "total_kills = len(df[\"killer_name\"])"
   ]
  },
  {
   "cell_type": "code",
   "execution_count": 116,
   "metadata": {},
   "outputs": [],
   "source": [
    "killers = df[\"killer_name\"].value_counts()\n",
    "victims = df[\"victim_name\"].value_counts()\n",
    "items = df[\"weapon\"].value_counts()"
   ]
  },
  {
   "cell_type": "markdown",
   "metadata": {},
   "source": [
    "### N^ registred kills"
   ]
  },
  {
   "cell_type": "code",
   "execution_count": 118,
   "metadata": {},
   "outputs": [
    {
     "name": "stdout",
     "output_type": "stream",
     "text": [
      "47388\n"
     ]
    }
   ],
   "source": [
    "registredKills = df[\"killer_name\"].value_counts().sum()\n",
    "print(registredKills)"
   ]
  },
  {
   "cell_type": "markdown",
   "metadata": {},
   "source": [
    "### Killer Data"
   ]
  },
  {
   "cell_type": "code",
   "execution_count": 133,
   "metadata": {},
   "outputs": [],
   "source": [
    "kClass = pd.DataFrame({\n",
    "    \"Killer\": [],\n",
    "    \"Num\": [],\n",
    "    \"Perc\": []\n",
    "})\n",
    "## Print killers \n",
    "for value, num in killers.items():\n",
    "    print(\"Killer: %s Num: %d Perc: %f %%\" % (value, num, num / registredKills * 100))\n",
    "    kClass = kClass.append({\"Num\": num, \"Perc\": num / registredKills * 100, \"Killer\": value}, ignore_index=True)\n",
    "clear_output()"
   ]
  },
  {
   "cell_type": "code",
   "execution_count": 134,
   "metadata": {},
   "outputs": [],
   "source": [
    "kClass = kClass.set_index(\"Killer\")\n",
    "## Export this\n",
    "kClass.to_csv(\"../../results/kills/killerClass.csv\")"
   ]
  },
  {
   "cell_type": "code",
   "execution_count": 107,
   "metadata": {},
   "outputs": [],
   "source": [
    "## Take first 5 killers\n",
    "createGraph(((killer / registredKills * 100)[:5].round(3))[:5].round(3))\n",
    "clear_output()"
   ]
  },
  {
   "cell_type": "markdown",
   "metadata": {},
   "source": [
    "### Victim Data"
   ]
  },
  {
   "cell_type": "code",
   "execution_count": 122,
   "metadata": {},
   "outputs": [],
   "source": [
    "vClass = pd.DataFrame({\n",
    "    \"Victim\": [],\n",
    "    \"Num\": [],\n",
    "    \"Perc\": []\n",
    "})\n",
    "## Print killers \n",
    "for value, num in victims.items():\n",
    "    print(\"Victim: %s Num: %d Perc: %f %%\" % (value, num, num / registredKills * 100))\n",
    "    vClass = vClass.append({\"Num\": num, \"Perc\": num / registredKills * 100, \"Victim\": value}, ignore_index=True)\n",
    "clear_output()"
   ]
  },
  {
   "cell_type": "code",
   "execution_count": 125,
   "metadata": {},
   "outputs": [],
   "source": [
    "vClass = vClass.set_index(\"Victim\")\n",
    "## Export this\n",
    "vClass.to_csv(\"../../results/kills/victimClass.csv\")"
   ]
  },
  {
   "cell_type": "code",
   "execution_count": 144,
   "metadata": {},
   "outputs": [],
   "source": [
    "## Take first 5 weapons\n",
    "createGraph(((victims / registredKills * 100)[:5].round(3))[:5].round(3))\n",
    "clear_output()"
   ]
  },
  {
   "cell_type": "code",
   "execution_count": 136,
   "metadata": {},
   "outputs": [],
   "source": [
    "iClass = pd.DataFrame({\n",
    "    \"Item\": [],\n",
    "    \"Num\": [],\n",
    "    \"Perc\": []\n",
    "})\n",
    "## Print killers \n",
    "for value, num in items.items():\n",
    "    print(\"Item: %s Num: %d Perc: %f %%\" % (value, num, num / registredKills * 100))\n",
    "    iClass = iClass.append({\"Num\": num, \"Perc\": num / registredKills * 100, \"Item\": value}, ignore_index=True)\n",
    "clear_output()"
   ]
  },
  {
   "cell_type": "code",
   "execution_count": 137,
   "metadata": {},
   "outputs": [],
   "source": [
    "iClass = iClass.set_index(\"Item\")\n",
    "## Export this\n",
    "iClass.to_csv(\"../../results/kills/itemClass.csv\")"
   ]
  },
  {
   "cell_type": "code",
   "execution_count": 145,
   "metadata": {},
   "outputs": [],
   "source": [
    "## Take first 5 weapons\n",
    "createGraph(((items / registredKills * 100)[:5].round(3))[:5].round(3))\n",
    "clear_output()"
   ]
  },
  {
   "cell_type": "code",
   "execution_count": null,
   "metadata": {},
   "outputs": [],
   "source": []
  }
 ],
 "metadata": {
  "kernelspec": {
   "display_name": "Python 3",
   "language": "python",
   "name": "python3"
  },
  "language_info": {
   "codemirror_mode": {
    "name": "ipython",
    "version": 3
   },
   "file_extension": ".py",
   "mimetype": "text/x-python",
   "name": "python",
   "nbconvert_exporter": "python",
   "pygments_lexer": "ipython3",
   "version": "3.7.6"
  }
 },
 "nbformat": 4,
 "nbformat_minor": 4
}
